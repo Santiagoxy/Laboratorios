{
  "nbformat": 4,
  "nbformat_minor": 0,
  "metadata": {
    "colab": {
      "provenance": [],
      "authorship_tag": "ABX9TyP7ORl+7Nv+9qgknnystYp6",
      "include_colab_link": true
    },
    "kernelspec": {
      "name": "python3",
      "display_name": "Python 3"
    },
    "language_info": {
      "name": "python"
    }
  },
  "cells": [
    {
      "cell_type": "markdown",
      "metadata": {
        "id": "view-in-github",
        "colab_type": "text"
      },
      "source": [
        "<a href=\"https://colab.research.google.com/github/Santiagoxy/Laboratorios/blob/main/Laboratorio1.ipynb\" target=\"_parent\"><img src=\"https://colab.research.google.com/assets/colab-badge.svg\" alt=\"Open In Colab\"/></a>"
      ]
    },
    {
      "cell_type": "code",
      "execution_count": 1,
      "metadata": {
        "id": "4ObN2QrgFYFQ"
      },
      "outputs": [],
      "source": [
        "import pandas as pd\n",
        "import numpy as np\n",
        "import matplotlib. pyplot as plt"
      ]
    },
    {
      "cell_type": "code",
      "source": [
        "data = {'year': [\n",
        "2010, 2011, 2012,\n",
        "2010, 2011, 2012,\n",
        "2010, 2011, 2012\n",
        "] ,\n",
        "'team': [\n",
        "'FCBarcelona', 'FCBarcelona',\n",
        "'FCBarcelona', 'RMadrid',\n",
        "'RMadrid', 'RMadrid',\n",
        "'ValenciaCF', 'ValenciaCF',\n",
        "'ValenciaCF'\n",
        "] ,\n",
        "'wins': [30, 28, 32, 29, 32, 26, 21, 17, 19],\n",
        "'draws': [6, 7, 4, 5, 4, 7, 8, 10, 8],\n",
        "'losses': [2, 3, 2, 4, 2, 5, 9, 11, 11]\n",
        "}\n",
        "football = pd.DataFrame(data , columns = [\n",
        "'year', 'team', 'wins', 'draws', 'losses'\n",
        "]\n",
        ")\n",
        "print(football)\n"
      ],
      "metadata": {
        "colab": {
          "base_uri": "https://localhost:8080/"
        },
        "id": "ybsH-oqCFseN",
        "outputId": "b9f1b33d-8340-4769-d1b4-44c9ee24063c"
      },
      "execution_count": 4,
      "outputs": [
        {
          "output_type": "stream",
          "name": "stdout",
          "text": [
            "   year         team  wins  draws  losses\n",
            "0  2010  FCBarcelona    30      6       2\n",
            "1  2011  FCBarcelona    28      7       3\n",
            "2  2012  FCBarcelona    32      4       2\n",
            "3  2010      RMadrid    29      5       4\n",
            "4  2011      RMadrid    32      4       2\n",
            "5  2012      RMadrid    26      7       5\n",
            "6  2010   ValenciaCF    21      8       9\n",
            "7  2011   ValenciaCF    17     10      11\n",
            "8  2012   ValenciaCF    19      8      11\n"
          ]
        }
      ]
    }
  ]
}