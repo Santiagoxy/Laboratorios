{
  "cells": [
    {
      "cell_type": "markdown",
      "metadata": {
        "id": "view-in-github"
      },
      "source": [
        "<a href=\"https://colab.research.google.com/github/afriveros/LaboratorioECCIBigData/blob/main/Laboratorio_cars_price_prediction_regresion_lienal.ipynb\" target=\"_parent\"><img src=\"https://colab.research.google.com/assets/colab-badge.svg\" alt=\"Open In Colab\"/></a>"
      ],
      "id": "view-in-github"
    },
    {
      "cell_type": "markdown",
      "id": "d95f2ef3",
      "metadata": {
        "id": "d95f2ef3"
      },
      "source": [
        "\n",
        "Santiago Guerrero Chamorro\n",
        "Cars Price usando Suzuki Gixxer\n"
      ]
    },
    {
      "cell_type": "markdown",
      "id": "bc4c3640",
      "metadata": {
        "id": "bc4c3640"
      },
      "source": [
        "## Data understanding"
      ]
    },
    {
      "cell_type": "markdown",
      "id": "2cee4321",
      "metadata": {
        "id": "2cee4321"
      },
      "source": [
        "### Import libraries"
      ]
    },
    {
      "cell_type": "code",
      "execution_count": null,
      "id": "ae6857d8",
      "metadata": {
        "id": "ae6857d8"
      },
      "outputs": [],
      "source": [
        "import numpy as np\n",
        "import pandas as pd\n",
        "import matplotlib.pyplot as plt\n",
        "import seaborn as sns\n",
        "import re"
      ]
    },
    {
      "cell_type": "markdown",
      "id": "634627c4",
      "metadata": {
        "id": "634627c4"
      },
      "source": [
        "### Load data"
      ]
    },
    {
      "cell_type": "code",
      "execution_count": 61,
      "id": "270a026f",
      "metadata": {
        "id": "270a026f",
        "outputId": "88f6cdc8-5a85-449f-901f-2749faa57f71",
        "colab": {
          "base_uri": "https://localhost:8080/",
          "height": 225
        }
      },
      "outputs": [
        {
          "output_type": "stream",
          "name": "stdout",
          "text": [
            "(213, 6)\n"
          ]
        },
        {
          "output_type": "execute_result",
          "data": {
            "text/plain": [
              "                                               model        price  year   kms  \\\n",
              "0                                 Suzuki Gixxer 250   $15.580.000  2024   0.0   \n",
              "1  Suzuki Gixxer 250 Modelo, 2023, 12 Mil KilÃ³me...  $12.900.000  2023  12.0   \n",
              "2                          Suzuki Gixxer 150 Fi 2023   $9.900.000  2023  10.0   \n",
              "3                          Suzuki Gixxer 150 Fi 2022   $8.900.000  2022  11.0   \n",
              "4                             Suzuki Gixxer 150 2020   $6.800.000  2020  26.0   \n",
              "\n",
              "   color  fueltype  \n",
              "0   Azul  Gasolina  \n",
              "1  Negro  Gasolina  \n",
              "2  Negro  Gasolina  \n",
              "3  Negro  Gasolina  \n",
              "4  Negro  Gasolina  "
            ],
            "text/html": [
              "\n",
              "  <div id=\"df-3de4df92-4075-4223-ba27-c93668343e1b\" class=\"colab-df-container\">\n",
              "    <div>\n",
              "<style scoped>\n",
              "    .dataframe tbody tr th:only-of-type {\n",
              "        vertical-align: middle;\n",
              "    }\n",
              "\n",
              "    .dataframe tbody tr th {\n",
              "        vertical-align: top;\n",
              "    }\n",
              "\n",
              "    .dataframe thead th {\n",
              "        text-align: right;\n",
              "    }\n",
              "</style>\n",
              "<table border=\"1\" class=\"dataframe\">\n",
              "  <thead>\n",
              "    <tr style=\"text-align: right;\">\n",
              "      <th></th>\n",
              "      <th>model</th>\n",
              "      <th>price</th>\n",
              "      <th>year</th>\n",
              "      <th>kms</th>\n",
              "      <th>color</th>\n",
              "      <th>fueltype</th>\n",
              "    </tr>\n",
              "  </thead>\n",
              "  <tbody>\n",
              "    <tr>\n",
              "      <th>0</th>\n",
              "      <td>Suzuki Gixxer 250</td>\n",
              "      <td>$15.580.000</td>\n",
              "      <td>2024</td>\n",
              "      <td>0.0</td>\n",
              "      <td>Azul</td>\n",
              "      <td>Gasolina</td>\n",
              "    </tr>\n",
              "    <tr>\n",
              "      <th>1</th>\n",
              "      <td>Suzuki Gixxer 250 Modelo, 2023, 12 Mil KilÃ³me...</td>\n",
              "      <td>$12.900.000</td>\n",
              "      <td>2023</td>\n",
              "      <td>12.0</td>\n",
              "      <td>Negro</td>\n",
              "      <td>Gasolina</td>\n",
              "    </tr>\n",
              "    <tr>\n",
              "      <th>2</th>\n",
              "      <td>Suzuki Gixxer 150 Fi 2023</td>\n",
              "      <td>$9.900.000</td>\n",
              "      <td>2023</td>\n",
              "      <td>10.0</td>\n",
              "      <td>Negro</td>\n",
              "      <td>Gasolina</td>\n",
              "    </tr>\n",
              "    <tr>\n",
              "      <th>3</th>\n",
              "      <td>Suzuki Gixxer 150 Fi 2022</td>\n",
              "      <td>$8.900.000</td>\n",
              "      <td>2022</td>\n",
              "      <td>11.0</td>\n",
              "      <td>Negro</td>\n",
              "      <td>Gasolina</td>\n",
              "    </tr>\n",
              "    <tr>\n",
              "      <th>4</th>\n",
              "      <td>Suzuki Gixxer 150 2020</td>\n",
              "      <td>$6.800.000</td>\n",
              "      <td>2020</td>\n",
              "      <td>26.0</td>\n",
              "      <td>Negro</td>\n",
              "      <td>Gasolina</td>\n",
              "    </tr>\n",
              "  </tbody>\n",
              "</table>\n",
              "</div>\n",
              "    <div class=\"colab-df-buttons\">\n",
              "\n",
              "  <div class=\"colab-df-container\">\n",
              "    <button class=\"colab-df-convert\" onclick=\"convertToInteractive('df-3de4df92-4075-4223-ba27-c93668343e1b')\"\n",
              "            title=\"Convert this dataframe to an interactive table.\"\n",
              "            style=\"display:none;\">\n",
              "\n",
              "  <svg xmlns=\"http://www.w3.org/2000/svg\" height=\"24px\" viewBox=\"0 -960 960 960\">\n",
              "    <path d=\"M120-120v-720h720v720H120Zm60-500h600v-160H180v160Zm220 220h160v-160H400v160Zm0 220h160v-160H400v160ZM180-400h160v-160H180v160Zm440 0h160v-160H620v160ZM180-180h160v-160H180v160Zm440 0h160v-160H620v160Z\"/>\n",
              "  </svg>\n",
              "    </button>\n",
              "\n",
              "  <style>\n",
              "    .colab-df-container {\n",
              "      display:flex;\n",
              "      gap: 12px;\n",
              "    }\n",
              "\n",
              "    .colab-df-convert {\n",
              "      background-color: #E8F0FE;\n",
              "      border: none;\n",
              "      border-radius: 50%;\n",
              "      cursor: pointer;\n",
              "      display: none;\n",
              "      fill: #1967D2;\n",
              "      height: 32px;\n",
              "      padding: 0 0 0 0;\n",
              "      width: 32px;\n",
              "    }\n",
              "\n",
              "    .colab-df-convert:hover {\n",
              "      background-color: #E2EBFA;\n",
              "      box-shadow: 0px 1px 2px rgba(60, 64, 67, 0.3), 0px 1px 3px 1px rgba(60, 64, 67, 0.15);\n",
              "      fill: #174EA6;\n",
              "    }\n",
              "\n",
              "    .colab-df-buttons div {\n",
              "      margin-bottom: 4px;\n",
              "    }\n",
              "\n",
              "    [theme=dark] .colab-df-convert {\n",
              "      background-color: #3B4455;\n",
              "      fill: #D2E3FC;\n",
              "    }\n",
              "\n",
              "    [theme=dark] .colab-df-convert:hover {\n",
              "      background-color: #434B5C;\n",
              "      box-shadow: 0px 1px 3px 1px rgba(0, 0, 0, 0.15);\n",
              "      filter: drop-shadow(0px 1px 2px rgba(0, 0, 0, 0.3));\n",
              "      fill: #FFFFFF;\n",
              "    }\n",
              "  </style>\n",
              "\n",
              "    <script>\n",
              "      const buttonEl =\n",
              "        document.querySelector('#df-3de4df92-4075-4223-ba27-c93668343e1b button.colab-df-convert');\n",
              "      buttonEl.style.display =\n",
              "        google.colab.kernel.accessAllowed ? 'block' : 'none';\n",
              "\n",
              "      async function convertToInteractive(key) {\n",
              "        const element = document.querySelector('#df-3de4df92-4075-4223-ba27-c93668343e1b');\n",
              "        const dataTable =\n",
              "          await google.colab.kernel.invokeFunction('convertToInteractive',\n",
              "                                                    [key], {});\n",
              "        if (!dataTable) return;\n",
              "\n",
              "        const docLinkHtml = 'Like what you see? Visit the ' +\n",
              "          '<a target=\"_blank\" href=https://colab.research.google.com/notebooks/data_table.ipynb>data table notebook</a>'\n",
              "          + ' to learn more about interactive tables.';\n",
              "        element.innerHTML = '';\n",
              "        dataTable['output_type'] = 'display_data';\n",
              "        await google.colab.output.renderOutput(dataTable, element);\n",
              "        const docLink = document.createElement('div');\n",
              "        docLink.innerHTML = docLinkHtml;\n",
              "        element.appendChild(docLink);\n",
              "      }\n",
              "    </script>\n",
              "  </div>\n",
              "\n",
              "\n",
              "<div id=\"df-79426f32-42e5-4fc1-9280-cc125650c3f2\">\n",
              "  <button class=\"colab-df-quickchart\" onclick=\"quickchart('df-79426f32-42e5-4fc1-9280-cc125650c3f2')\"\n",
              "            title=\"Suggest charts\"\n",
              "            style=\"display:none;\">\n",
              "\n",
              "<svg xmlns=\"http://www.w3.org/2000/svg\" height=\"24px\"viewBox=\"0 0 24 24\"\n",
              "     width=\"24px\">\n",
              "    <g>\n",
              "        <path d=\"M19 3H5c-1.1 0-2 .9-2 2v14c0 1.1.9 2 2 2h14c1.1 0 2-.9 2-2V5c0-1.1-.9-2-2-2zM9 17H7v-7h2v7zm4 0h-2V7h2v10zm4 0h-2v-4h2v4z\"/>\n",
              "    </g>\n",
              "</svg>\n",
              "  </button>\n",
              "\n",
              "<style>\n",
              "  .colab-df-quickchart {\n",
              "      --bg-color: #E8F0FE;\n",
              "      --fill-color: #1967D2;\n",
              "      --hover-bg-color: #E2EBFA;\n",
              "      --hover-fill-color: #174EA6;\n",
              "      --disabled-fill-color: #AAA;\n",
              "      --disabled-bg-color: #DDD;\n",
              "  }\n",
              "\n",
              "  [theme=dark] .colab-df-quickchart {\n",
              "      --bg-color: #3B4455;\n",
              "      --fill-color: #D2E3FC;\n",
              "      --hover-bg-color: #434B5C;\n",
              "      --hover-fill-color: #FFFFFF;\n",
              "      --disabled-bg-color: #3B4455;\n",
              "      --disabled-fill-color: #666;\n",
              "  }\n",
              "\n",
              "  .colab-df-quickchart {\n",
              "    background-color: var(--bg-color);\n",
              "    border: none;\n",
              "    border-radius: 50%;\n",
              "    cursor: pointer;\n",
              "    display: none;\n",
              "    fill: var(--fill-color);\n",
              "    height: 32px;\n",
              "    padding: 0;\n",
              "    width: 32px;\n",
              "  }\n",
              "\n",
              "  .colab-df-quickchart:hover {\n",
              "    background-color: var(--hover-bg-color);\n",
              "    box-shadow: 0 1px 2px rgba(60, 64, 67, 0.3), 0 1px 3px 1px rgba(60, 64, 67, 0.15);\n",
              "    fill: var(--button-hover-fill-color);\n",
              "  }\n",
              "\n",
              "  .colab-df-quickchart-complete:disabled,\n",
              "  .colab-df-quickchart-complete:disabled:hover {\n",
              "    background-color: var(--disabled-bg-color);\n",
              "    fill: var(--disabled-fill-color);\n",
              "    box-shadow: none;\n",
              "  }\n",
              "\n",
              "  .colab-df-spinner {\n",
              "    border: 2px solid var(--fill-color);\n",
              "    border-color: transparent;\n",
              "    border-bottom-color: var(--fill-color);\n",
              "    animation:\n",
              "      spin 1s steps(1) infinite;\n",
              "  }\n",
              "\n",
              "  @keyframes spin {\n",
              "    0% {\n",
              "      border-color: transparent;\n",
              "      border-bottom-color: var(--fill-color);\n",
              "      border-left-color: var(--fill-color);\n",
              "    }\n",
              "    20% {\n",
              "      border-color: transparent;\n",
              "      border-left-color: var(--fill-color);\n",
              "      border-top-color: var(--fill-color);\n",
              "    }\n",
              "    30% {\n",
              "      border-color: transparent;\n",
              "      border-left-color: var(--fill-color);\n",
              "      border-top-color: var(--fill-color);\n",
              "      border-right-color: var(--fill-color);\n",
              "    }\n",
              "    40% {\n",
              "      border-color: transparent;\n",
              "      border-right-color: var(--fill-color);\n",
              "      border-top-color: var(--fill-color);\n",
              "    }\n",
              "    60% {\n",
              "      border-color: transparent;\n",
              "      border-right-color: var(--fill-color);\n",
              "    }\n",
              "    80% {\n",
              "      border-color: transparent;\n",
              "      border-right-color: var(--fill-color);\n",
              "      border-bottom-color: var(--fill-color);\n",
              "    }\n",
              "    90% {\n",
              "      border-color: transparent;\n",
              "      border-bottom-color: var(--fill-color);\n",
              "    }\n",
              "  }\n",
              "</style>\n",
              "\n",
              "  <script>\n",
              "    async function quickchart(key) {\n",
              "      const quickchartButtonEl =\n",
              "        document.querySelector('#' + key + ' button');\n",
              "      quickchartButtonEl.disabled = true;  // To prevent multiple clicks.\n",
              "      quickchartButtonEl.classList.add('colab-df-spinner');\n",
              "      try {\n",
              "        const charts = await google.colab.kernel.invokeFunction(\n",
              "            'suggestCharts', [key], {});\n",
              "      } catch (error) {\n",
              "        console.error('Error during call to suggestCharts:', error);\n",
              "      }\n",
              "      quickchartButtonEl.classList.remove('colab-df-spinner');\n",
              "      quickchartButtonEl.classList.add('colab-df-quickchart-complete');\n",
              "    }\n",
              "    (() => {\n",
              "      let quickchartButtonEl =\n",
              "        document.querySelector('#df-79426f32-42e5-4fc1-9280-cc125650c3f2 button');\n",
              "      quickchartButtonEl.style.display =\n",
              "        google.colab.kernel.accessAllowed ? 'block' : 'none';\n",
              "    })();\n",
              "  </script>\n",
              "</div>\n",
              "\n",
              "    </div>\n",
              "  </div>\n"
            ],
            "application/vnd.google.colaboratory.intrinsic+json": {
              "type": "dataframe",
              "variable_name": "data",
              "summary": "{\n  \"name\": \"data\",\n  \"rows\": 213,\n  \"fields\": [\n    {\n      \"column\": \"model\",\n      \"properties\": {\n        \"dtype\": \"string\",\n        \"num_unique_values\": 135,\n        \"samples\": [\n          \"Suzuki Gixxer 250 Modelo 2020\",\n          \"Suzuki Gixxer Sf 150 Fi Abs\",\n          \"Suzuki Gixer 250\"\n        ],\n        \"semantic_type\": \"\",\n        \"description\": \"\"\n      }\n    },\n    {\n      \"column\": \"price\",\n      \"properties\": {\n        \"dtype\": \"category\",\n        \"num_unique_values\": 79,\n        \"samples\": [\n          \"$14.500.000\",\n          \"$15.580.000\",\n          \"$11.800.000\"\n        ],\n        \"semantic_type\": \"\",\n        \"description\": \"\"\n      }\n    },\n    {\n      \"column\": \"year\",\n      \"properties\": {\n        \"dtype\": \"number\",\n        \"std\": 663,\n        \"min\": 0,\n        \"max\": 2025,\n        \"num_unique_values\": 10,\n        \"samples\": [\n          0,\n          2023,\n          2021\n        ],\n        \"semantic_type\": \"\",\n        \"description\": \"\"\n      }\n    },\n    {\n      \"column\": \"kms\",\n      \"properties\": {\n        \"dtype\": \"number\",\n        \"std\": 54.497389362302535,\n        \"min\": 0.0,\n        \"max\": 700.0,\n        \"num_unique_values\": 117,\n        \"samples\": [\n          26.9,\n          26.0,\n          42.0\n        ],\n        \"semantic_type\": \"\",\n        \"description\": \"\"\n      }\n    },\n    {\n      \"column\": \"color\",\n      \"properties\": {\n        \"dtype\": \"category\",\n        \"num_unique_values\": 8,\n        \"samples\": [\n          \"Negro\",\n          \"Plateado\",\n          \"Azul\"\n        ],\n        \"semantic_type\": \"\",\n        \"description\": \"\"\n      }\n    },\n    {\n      \"column\": \"fueltype\",\n      \"properties\": {\n        \"dtype\": \"category\",\n        \"num_unique_values\": 4,\n        \"samples\": [\n          \"H\\u00c3\\u00adbrido\",\n          \"Gasolina y gas\",\n          \"Gasolina\"\n        ],\n        \"semantic_type\": \"\",\n        \"description\": \"\"\n      }\n    }\n  ]\n}"
            }
          },
          "metadata": {},
          "execution_count": 61
        }
      ],
      "source": [
        "import pandas as pd\n",
        "\n",
        "file_path = '/content/usedCarsCol_Gixxer_200624suzuki.csv'\n",
        "cols = ['model', 'price', 'year', 'kms', 'color', 'fueltype']\n",
        "\n",
        "# Adjust the separator if necessary\n",
        "data = pd.read_csv(file_path, sep=',', names=cols, header=0, encoding='latin-1')\n",
        "print(data.shape)\n",
        "data.head()\n",
        "\n"
      ]
    },
    {
      "cell_type": "markdown",
      "id": "ca82276d",
      "metadata": {
        "id": "ca82276d"
      },
      "source": [
        "### Verify data types"
      ]
    },
    {
      "cell_type": "code",
      "execution_count": 62,
      "id": "998860b5",
      "metadata": {
        "id": "998860b5",
        "colab": {
          "base_uri": "https://localhost:8080/"
        },
        "outputId": "c86b0220-0104-4723-e19c-cec346121551"
      },
      "outputs": [
        {
          "output_type": "execute_result",
          "data": {
            "text/plain": [
              "model        object\n",
              "price        object\n",
              "year          int64\n",
              "kms         float64\n",
              "color        object\n",
              "fueltype     object\n",
              "dtype: object"
            ]
          },
          "metadata": {},
          "execution_count": 62
        }
      ],
      "source": [
        "data.dtypes"
      ]
    },
    {
      "cell_type": "markdown",
      "id": "8dcab392",
      "metadata": {
        "id": "8dcab392"
      },
      "source": [
        "### Count unique values for each variable"
      ]
    },
    {
      "cell_type": "code",
      "execution_count": 63,
      "id": "3034ca26",
      "metadata": {
        "id": "3034ca26",
        "colab": {
          "base_uri": "https://localhost:8080/"
        },
        "outputId": "d96cd636-4deb-4524-d829-8d8871974026"
      },
      "outputs": [
        {
          "output_type": "execute_result",
          "data": {
            "text/plain": [
              "model       135\n",
              "price        79\n",
              "year         10\n",
              "kms         117\n",
              "color         8\n",
              "fueltype      4\n",
              "dtype: int64"
            ]
          },
          "metadata": {},
          "execution_count": 63
        }
      ],
      "source": [
        "data.nunique()"
      ]
    },
    {
      "cell_type": "code",
      "execution_count": 64,
      "id": "bad51e9a",
      "metadata": {
        "id": "bad51e9a",
        "colab": {
          "base_uri": "https://localhost:8080/"
        },
        "outputId": "04d1398e-dac2-48f5-baf8-23737a81d580"
      },
      "outputs": [
        {
          "output_type": "stream",
          "name": "stdout",
          "text": [
            "['Suzuki Gixxer 250 ', 'Suzuki Gixxer 250 Modelo, 2023, 12 Mil KilÃ³metros', 'Suzuki Gixxer 150 Fi 2023', 'Suzuki Gixxer 150 Fi 2022', 'Suzuki Gixxer 150 2020', 'Suzuki Gixxer 250 2022', 'Suzuki Gixxer 155 2019 ', 'Suzuki Gixxer 155 2021 ', 'Suzuki Gixxer 150 Fi Abs 2022', 'Suzuki Gixxer 155 2020', 'Suzuki Gixxer 250 2023', 'Suzuki Gixxer Sf 250 2020', 'Suzuki Gixxer 250 2021', 'Suzuki Gixxer 250', 'Suzuki Gixxer Sf 155 2017', 'Gixxer F1 150 Abs Suzuki', 'Suzuki Gixxer 150 2023', 'Suzuki Gixxer 150', 'Suzuki Gixxer 250 2023 Â¡unico DueÃ±o! Â¡recibo Moto!', 'Suzuki Gixxer 250 Fi Abs 2022', 'Suzuki Gixxer 250 Sf 2022', 'Suzuki Gixxer 250, Modelo 2023, 11.000 K', 'Gixxer 250', 'Suzuki - Gixxer Sf 250 Modelo 2025', 'Suzuki - Gixxer 250 Modelo 2025', 'Suzuki - Gixxer Fi Modelo 2025', 'Suzuki - Gixxer Fi Abs Modelo 2025', 'Suzuki Gixxer 250 Mod. 2023', 'Suzuki Gixxer 250 Modelo 2021 Ã\\x9anico DueÃ±o', ' ', 'Suzuki Gixxer Fi Abs', 'Suzuki Gixxer Sf 250', 'Suzuki Gixxer Fi Sin Abs', 'Suzuki Gixxer 2018', 'Suzuki, Gixxer 250 Sf', 'Suzuki Gixxer 250 2024', 'Gixxer Sf Fi Abs', 'Suzuki Gixxer Sf 250 - 2022', 'Suzuki Gixxer 150cc Modelo 2021', 'Suzuki Gixxer 250 Entrega Inmediata 0 KilÃ³metros Mod 2024', 'Susuki Gixxer Sf 250', 'Suzuki Gixxer 250 Sf ', 'Susuki Gixxer Sf 250 ', 'Suzuki Gixxer 250 Sf', 'Gixxer 250 2024 Con 13mil Km Incluye 1millon En Accesorios ', 'Suzuki Gixxer 150 Fi Abs 2023', 'Suzuki Gixxer 250 - 2023 - 10.200km', 'Moto Suzuki Gixxer Sf Abs Fi 2024 3700km Azul Soat Nuevo+imp', 'Se Vende Moto Gixxer 250 Mod. 2023', 'Suzuki Gixxer 250 Modelo 2022', 'Suzuki Gixxer 250 Modelo 2023', 'Suzuki Gixxer Fi 150 Cc 155', 'Gixxer 250 Naked', 'Suzuki Gixxer 250sf 2023', 'Suzuki Gixxer250', 'Suzuki Gixxer', 'Suzuki Gixxer 150 Fi', 'Suzuki Gixxer 250 Abs', 'Gixxer 250 Sf', 'Gixxer 250-2023', 'Suzuki Gixxer 250- 2023', 'Suzuki Gixxer 150sf 2021', 'Gixxer 155fi Abs 100km Y Full De Lujos Y Accesorios', 'Suzuki Gixxer 250 2023 Full Negro Mate', 'Suzuki Gixxer 250cc', 'Gixxer 150 Fi', 'Gixxer Modelo 2021', 'Suzuki Gixxer Sf 150 Fi Abs', 'Suzuki 2024', 'Suzuki Gixxer Sf 250 2023', 'Suzuki Gixxer Sf Fi 155 2018 Mas Accesorios', 'Suzuki Gixxer Sf 150 Abs', 'Gixxer', 'Suzuki 2020', 'Suzuki  2024', 'Gixxer Fi Abs', 'Zuzuki Gixxer 250', 'Gixxer 250, 2022', 'Suzuki Gixxer 250 Mod 2023', 'Suzuki', 'Suzuki Gixer 2019', 'Suzuki Sf 250', 'Suzuki Gixxer Sf 250 - 2020', 'Suzuki Gixxer Naked', 'Suzuki Gixxer 250 Mod 2020', 'Gixxer 250 2020', 'Suzuki Gixxer Sf250', 'Suzuki Gixxer 150 - 2022', 'Suzuki Gixxer 250cc Modelo 2023', 'Gixxer 150sf', 'Suzuki  2023', 'Suzuki 2023', 'Moto Suzuki Gixxer 250 Modelo 2024', 'Suzuki Gixxer 150 2021', 'Suzuki Gixxer 150 Fi Abs', 'Gixxer 250 Fs', 'Gixxer 250 Modelo 2023', 'Suzuki Gixxer 250 2020', 'Suzuki Gixxer 250 Modelo 2020', 'Suzuki Gixxer 150 Modelo 2020', 'Suzuki  Gixxer Sf250', 'Suzuki  Gixxer Sf 250', 'Suzuki  Gixxer 150 2021', 'Suzuki Gixxer 250 - 2024', 'Susuki Gixxer Sf 150 Full InyecciÃ³n 2020', 'Suzuki Gixer 250', 'Gixxer 250 Mod 2020', 'Suzuki 2022', 'Susuki Gixxer 150 Modelo 2023 Papeles A Mayo De 2025', 'Gixxer 250  Suzuki 2021', 'Susuky  2019', 'Suzuki Gixxer 150 Abs', 'Susuki Gixxer Sf', 'Gixer 250', 'Gixxer 250 2024', 'Gixxer 150 Modelo 2020', 'Suzuki Gixxer 250 2023 Precio Negociable**', 'Suzuki  Gixxer 2019', 'Suzuki  2024 ', 'Suzuki Gixxer Sf Modelo 2024', 'Susuki Gixxer 250', 'Suzuki  Gixxer  250 Mod 2023', 'Suzuki Gixxer 150  Modelo 2023  32mil Km Whatsapp 3142405065', 'Suzuki Gixxer 250 - 2025h', 'Suzuki Gizzer Sf 250', 'Motocicleta. Gixxer 150', 'Susuki', 'Suzuki Gixxer Sf', 'Suzuki Grixxer', 'Suzuki  Gixxer', 'Suzuky Gixxer 250 Modelo 2022 18780 Km', 'Suzuki Gixxer Sf 250 - 2023', 'Moto Gixxer 250, Modelo 2024', 'Suzuki Gixxer Sf 150', 'Moto Suzuki Gixxer 250cc']\n",
            "['$15.580.000', '$12.900.000', '$9.900.000', '$8.900.000', '$6.800.000', '$6.900.000', '$12.500.000', '$6.700.000', '$7.500.000', '$9.200.000', '$13.300.000', '$11.600.000', '$12.600.000', '$11.990.000', '$5.900.000', '$11.297.000', '$9.400.000', '$6.300.000', '$11.790.000', '$10.500.000', '$13.400.000', '$11.700.000', '$11.800.000', '$9.500.000', '$16.530.000', '$10.200.000', '$10.750.000', '$12.800.000', '0', '$6.000.000', '$14.500.000', '$14.000.000', '$12.297.000', '$11.000.000', '$15.000.000', '$16.500.000', '$15.500.000', '$11.500.000', '$9.000.000', '$13.200.000', '$11.499.900', '$13.500.000', '$12.000.000', '$12.300.000', '$5.800.000', '$10.000.000', '$8.700.000', '$11.300.000', '$14.800.000', '$13.000.000', '$8.000.000', '$10.999.999', '$13.800.000', '$10.600.000', '$8.200.000', '$10.400.000', '$13.700.000', '$11.400.000', '$5.500.000', '$11.200.000', '$11.900.000', '$11.099.999', '$5.000.000', '$7.200.000', '$11.890.000', '$7.890.000', '$8.400.000', '$8.500.000', '$14.900.000', '$6.200.000', '$6.500.000', '$7.000.000', '$10.490.000', '$11.599.000', '$9.800.000', '$14.200.000', '$12.700.000', '$8.800.000', '$14.400.000']\n",
            "[2024, 2023, 2022, 2020, 2019, 2021, 2017, 2025, 0, 2018]\n",
            "[0.0, 12.0, 10.0, 11.0, 26.0, 22.0, 17.0, 18.0, 29.0, 15.0, 32.0, 39.0, 6.5, 72.0, 16.0, 11.5, 8.0, 20.0, 59.0, 1.0, 19.099, 44.5, 19.0, 8.7, 24.879, 28.35, 36.0, 6.9, 7.5, 8.5, 15.1, 9.0, 13.0, 51.0, 30.359, 10.2, 3.7, 24.0, 23.0, 21.5, 11.525, 33.0, 29.5, 12.1, 26.9, 7.0, 28.3, 18.5, 14.5, 10.1, 32.411, 110.0, 10.9, 42.0, 13.9, 6.44, 35.0, 700.0, 21.95, 350.0, 34.0, 7.8, 38.0, 32.15, 16.5, 6.0, 7.93, 6.67, 30.0, 45.0, 64.0, 12.7, 31.0, 18.605, 34.7, 17.5, 27.0, 52.0, 50.0, 21.0, 20.8, 9.3, 7.4, 11.85, 10.7, 25.0, 31.5, 12.39, 9.12, 11.2, 22.5, 5.0, 55.0, 27.5, 56.0, 12.2, 23.8, 11.1, 13.8, 17.2, 60.0, 3.0, 52.6, 46.0, 7.9, 5.75, 11.8, 5.6, 32.9, 82.0, 56.888, 4.8, 18.78, 14.0, 4.5, 38.861, 23.5]\n",
            "['Azul', 'Negro', 'Gris', 'Blanco', 'Rojo', 'Plateado', nan, 'Naranja', 'Color not found']\n",
            "['Gasolina', 'HÃ\\xadbrido', nan, 'Fuel type not found', 'Gasolina y gas']\n"
          ]
        }
      ],
      "source": [
        "print(data['model'].unique().tolist())\n",
        "print(data['price'].unique().tolist())\n",
        "print(data['year'].unique().tolist())\n",
        "print(data['kms'].unique().tolist())\n",
        "print(data['color'].unique().tolist())\n",
        "print(data['fueltype'].unique().tolist())"
      ]
    },
    {
      "cell_type": "markdown",
      "id": "7e088992",
      "metadata": {
        "id": "7e088992"
      },
      "source": [
        "### Data transformation"
      ]
    },
    {
      "cell_type": "code",
      "execution_count": 65,
      "id": "3ed603ae",
      "metadata": {
        "id": "3ed603ae",
        "colab": {
          "base_uri": "https://localhost:8080/"
        },
        "outputId": "16e73a7f-2419-4363-8c01-22c5bc65ac48"
      },
      "outputs": [
        {
          "output_type": "execute_result",
          "data": {
            "text/plain": [
              "(213, 5)"
            ]
          },
          "metadata": {},
          "execution_count": 65
        }
      ],
      "source": [
        "# Copy data and remove model variable\n",
        "datacc = data\n",
        "datacc = datacc.drop(['model'], axis=1)\n",
        "datacc.shape"
      ]
    },
    {
      "cell_type": "markdown",
      "id": "ea74f1f1",
      "metadata": {
        "id": "ea74f1f1"
      },
      "source": [
        "#### Transform $price$ to numerical"
      ]
    },
    {
      "cell_type": "code",
      "source": [
        "datacc['price'] = datacc['price'].str.replace(r'[$.]', '', regex=True).astype(int)"
      ],
      "metadata": {
        "id": "1IOOPDbTT_gr"
      },
      "id": "1IOOPDbTT_gr",
      "execution_count": 66,
      "outputs": []
    },
    {
      "cell_type": "markdown",
      "id": "74f3f278",
      "metadata": {
        "id": "74f3f278"
      },
      "source": [
        "##### Transform $kms$ to numerical"
      ]
    },
    {
      "cell_type": "code",
      "source": [
        "# Elimina puntos decimales en la columna 'kms'\n",
        "datacc['kms'] = datacc['kms'].astype(str).str.replace(r'[.]', '', regex=True).astype(int)\n"
      ],
      "metadata": {
        "id": "oElTIOYjVil1"
      },
      "id": "oElTIOYjVil1",
      "execution_count": 67,
      "outputs": []
    },
    {
      "cell_type": "code",
      "source": [
        "datacc.replace({'kms': {'Publicado': 0}}, inplace=True)"
      ],
      "metadata": {
        "id": "TUhVzpp2W0PD"
      },
      "id": "TUhVzpp2W0PD",
      "execution_count": 68,
      "outputs": []
    },
    {
      "cell_type": "code",
      "source": [
        "datacc['kms'] = datacc['kms'].replace('[.]','',regex=True).astype(int)"
      ],
      "metadata": {
        "id": "pszNNsMOX1wT"
      },
      "id": "pszNNsMOX1wT",
      "execution_count": 69,
      "outputs": []
    },
    {
      "cell_type": "markdown",
      "source": [
        "##### Transform categorical variables to dummies: $year$ and $fuel type$"
      ],
      "metadata": {
        "id": "Jd3dLBdMfUnF"
      },
      "id": "Jd3dLBdMfUnF"
    },
    {
      "cell_type": "code",
      "execution_count": 70,
      "id": "b782cd53",
      "metadata": {
        "id": "b782cd53",
        "colab": {
          "base_uri": "https://localhost:8080/"
        },
        "outputId": "af700dd6-88dc-4b6c-f87f-3f42eb595238"
      },
      "outputs": [
        {
          "output_type": "execute_result",
          "data": {
            "text/plain": [
              "price          int64\n",
              "year           int64\n",
              "kms            int64\n",
              "color       category\n",
              "fueltype    category\n",
              "dtype: object"
            ]
          },
          "metadata": {},
          "execution_count": 70
        }
      ],
      "source": [
        "# Object to categorical\n",
        "datacc['color'] = datacc['color'].astype('category')\n",
        "datacc['fueltype'] = datacc['fueltype'].astype('category')\n",
        "datacc.dtypes"
      ]
    },
    {
      "cell_type": "code",
      "source": [
        "# Convert to dummies\n",
        "# Convert category to codes\n",
        "datacc['color']  = pd.Categorical(datacc['color']).codes\n",
        "datacc['fueltype']  = pd.Categorical(datacc['fueltype']).codes\n",
        "datacc.head()"
      ],
      "metadata": {
        "id": "eqgAwoIopDz9",
        "colab": {
          "base_uri": "https://localhost:8080/",
          "height": 206
        },
        "outputId": "7de2de36-23c5-4d2a-a3b5-ef6c8bf0c91f"
      },
      "id": "eqgAwoIopDz9",
      "execution_count": 71,
      "outputs": [
        {
          "output_type": "execute_result",
          "data": {
            "text/plain": [
              "      price  year  kms  color  fueltype\n",
              "0  15580000  2024    0      0         1\n",
              "1  12900000  2023  120      5         1\n",
              "2   9900000  2023  100      5         1\n",
              "3   8900000  2022  110      5         1\n",
              "4   6800000  2020  260      5         1"
            ],
            "text/html": [
              "\n",
              "  <div id=\"df-2d9084df-0738-4b1b-ae66-fa4fdba9b296\" class=\"colab-df-container\">\n",
              "    <div>\n",
              "<style scoped>\n",
              "    .dataframe tbody tr th:only-of-type {\n",
              "        vertical-align: middle;\n",
              "    }\n",
              "\n",
              "    .dataframe tbody tr th {\n",
              "        vertical-align: top;\n",
              "    }\n",
              "\n",
              "    .dataframe thead th {\n",
              "        text-align: right;\n",
              "    }\n",
              "</style>\n",
              "<table border=\"1\" class=\"dataframe\">\n",
              "  <thead>\n",
              "    <tr style=\"text-align: right;\">\n",
              "      <th></th>\n",
              "      <th>price</th>\n",
              "      <th>year</th>\n",
              "      <th>kms</th>\n",
              "      <th>color</th>\n",
              "      <th>fueltype</th>\n",
              "    </tr>\n",
              "  </thead>\n",
              "  <tbody>\n",
              "    <tr>\n",
              "      <th>0</th>\n",
              "      <td>15580000</td>\n",
              "      <td>2024</td>\n",
              "      <td>0</td>\n",
              "      <td>0</td>\n",
              "      <td>1</td>\n",
              "    </tr>\n",
              "    <tr>\n",
              "      <th>1</th>\n",
              "      <td>12900000</td>\n",
              "      <td>2023</td>\n",
              "      <td>120</td>\n",
              "      <td>5</td>\n",
              "      <td>1</td>\n",
              "    </tr>\n",
              "    <tr>\n",
              "      <th>2</th>\n",
              "      <td>9900000</td>\n",
              "      <td>2023</td>\n",
              "      <td>100</td>\n",
              "      <td>5</td>\n",
              "      <td>1</td>\n",
              "    </tr>\n",
              "    <tr>\n",
              "      <th>3</th>\n",
              "      <td>8900000</td>\n",
              "      <td>2022</td>\n",
              "      <td>110</td>\n",
              "      <td>5</td>\n",
              "      <td>1</td>\n",
              "    </tr>\n",
              "    <tr>\n",
              "      <th>4</th>\n",
              "      <td>6800000</td>\n",
              "      <td>2020</td>\n",
              "      <td>260</td>\n",
              "      <td>5</td>\n",
              "      <td>1</td>\n",
              "    </tr>\n",
              "  </tbody>\n",
              "</table>\n",
              "</div>\n",
              "    <div class=\"colab-df-buttons\">\n",
              "\n",
              "  <div class=\"colab-df-container\">\n",
              "    <button class=\"colab-df-convert\" onclick=\"convertToInteractive('df-2d9084df-0738-4b1b-ae66-fa4fdba9b296')\"\n",
              "            title=\"Convert this dataframe to an interactive table.\"\n",
              "            style=\"display:none;\">\n",
              "\n",
              "  <svg xmlns=\"http://www.w3.org/2000/svg\" height=\"24px\" viewBox=\"0 -960 960 960\">\n",
              "    <path d=\"M120-120v-720h720v720H120Zm60-500h600v-160H180v160Zm220 220h160v-160H400v160Zm0 220h160v-160H400v160ZM180-400h160v-160H180v160Zm440 0h160v-160H620v160ZM180-180h160v-160H180v160Zm440 0h160v-160H620v160Z\"/>\n",
              "  </svg>\n",
              "    </button>\n",
              "\n",
              "  <style>\n",
              "    .colab-df-container {\n",
              "      display:flex;\n",
              "      gap: 12px;\n",
              "    }\n",
              "\n",
              "    .colab-df-convert {\n",
              "      background-color: #E8F0FE;\n",
              "      border: none;\n",
              "      border-radius: 50%;\n",
              "      cursor: pointer;\n",
              "      display: none;\n",
              "      fill: #1967D2;\n",
              "      height: 32px;\n",
              "      padding: 0 0 0 0;\n",
              "      width: 32px;\n",
              "    }\n",
              "\n",
              "    .colab-df-convert:hover {\n",
              "      background-color: #E2EBFA;\n",
              "      box-shadow: 0px 1px 2px rgba(60, 64, 67, 0.3), 0px 1px 3px 1px rgba(60, 64, 67, 0.15);\n",
              "      fill: #174EA6;\n",
              "    }\n",
              "\n",
              "    .colab-df-buttons div {\n",
              "      margin-bottom: 4px;\n",
              "    }\n",
              "\n",
              "    [theme=dark] .colab-df-convert {\n",
              "      background-color: #3B4455;\n",
              "      fill: #D2E3FC;\n",
              "    }\n",
              "\n",
              "    [theme=dark] .colab-df-convert:hover {\n",
              "      background-color: #434B5C;\n",
              "      box-shadow: 0px 1px 3px 1px rgba(0, 0, 0, 0.15);\n",
              "      filter: drop-shadow(0px 1px 2px rgba(0, 0, 0, 0.3));\n",
              "      fill: #FFFFFF;\n",
              "    }\n",
              "  </style>\n",
              "\n",
              "    <script>\n",
              "      const buttonEl =\n",
              "        document.querySelector('#df-2d9084df-0738-4b1b-ae66-fa4fdba9b296 button.colab-df-convert');\n",
              "      buttonEl.style.display =\n",
              "        google.colab.kernel.accessAllowed ? 'block' : 'none';\n",
              "\n",
              "      async function convertToInteractive(key) {\n",
              "        const element = document.querySelector('#df-2d9084df-0738-4b1b-ae66-fa4fdba9b296');\n",
              "        const dataTable =\n",
              "          await google.colab.kernel.invokeFunction('convertToInteractive',\n",
              "                                                    [key], {});\n",
              "        if (!dataTable) return;\n",
              "\n",
              "        const docLinkHtml = 'Like what you see? Visit the ' +\n",
              "          '<a target=\"_blank\" href=https://colab.research.google.com/notebooks/data_table.ipynb>data table notebook</a>'\n",
              "          + ' to learn more about interactive tables.';\n",
              "        element.innerHTML = '';\n",
              "        dataTable['output_type'] = 'display_data';\n",
              "        await google.colab.output.renderOutput(dataTable, element);\n",
              "        const docLink = document.createElement('div');\n",
              "        docLink.innerHTML = docLinkHtml;\n",
              "        element.appendChild(docLink);\n",
              "      }\n",
              "    </script>\n",
              "  </div>\n",
              "\n",
              "\n",
              "<div id=\"df-b0343de7-1662-4ff8-bbca-5f901dab6ac3\">\n",
              "  <button class=\"colab-df-quickchart\" onclick=\"quickchart('df-b0343de7-1662-4ff8-bbca-5f901dab6ac3')\"\n",
              "            title=\"Suggest charts\"\n",
              "            style=\"display:none;\">\n",
              "\n",
              "<svg xmlns=\"http://www.w3.org/2000/svg\" height=\"24px\"viewBox=\"0 0 24 24\"\n",
              "     width=\"24px\">\n",
              "    <g>\n",
              "        <path d=\"M19 3H5c-1.1 0-2 .9-2 2v14c0 1.1.9 2 2 2h14c1.1 0 2-.9 2-2V5c0-1.1-.9-2-2-2zM9 17H7v-7h2v7zm4 0h-2V7h2v10zm4 0h-2v-4h2v4z\"/>\n",
              "    </g>\n",
              "</svg>\n",
              "  </button>\n",
              "\n",
              "<style>\n",
              "  .colab-df-quickchart {\n",
              "      --bg-color: #E8F0FE;\n",
              "      --fill-color: #1967D2;\n",
              "      --hover-bg-color: #E2EBFA;\n",
              "      --hover-fill-color: #174EA6;\n",
              "      --disabled-fill-color: #AAA;\n",
              "      --disabled-bg-color: #DDD;\n",
              "  }\n",
              "\n",
              "  [theme=dark] .colab-df-quickchart {\n",
              "      --bg-color: #3B4455;\n",
              "      --fill-color: #D2E3FC;\n",
              "      --hover-bg-color: #434B5C;\n",
              "      --hover-fill-color: #FFFFFF;\n",
              "      --disabled-bg-color: #3B4455;\n",
              "      --disabled-fill-color: #666;\n",
              "  }\n",
              "\n",
              "  .colab-df-quickchart {\n",
              "    background-color: var(--bg-color);\n",
              "    border: none;\n",
              "    border-radius: 50%;\n",
              "    cursor: pointer;\n",
              "    display: none;\n",
              "    fill: var(--fill-color);\n",
              "    height: 32px;\n",
              "    padding: 0;\n",
              "    width: 32px;\n",
              "  }\n",
              "\n",
              "  .colab-df-quickchart:hover {\n",
              "    background-color: var(--hover-bg-color);\n",
              "    box-shadow: 0 1px 2px rgba(60, 64, 67, 0.3), 0 1px 3px 1px rgba(60, 64, 67, 0.15);\n",
              "    fill: var(--button-hover-fill-color);\n",
              "  }\n",
              "\n",
              "  .colab-df-quickchart-complete:disabled,\n",
              "  .colab-df-quickchart-complete:disabled:hover {\n",
              "    background-color: var(--disabled-bg-color);\n",
              "    fill: var(--disabled-fill-color);\n",
              "    box-shadow: none;\n",
              "  }\n",
              "\n",
              "  .colab-df-spinner {\n",
              "    border: 2px solid var(--fill-color);\n",
              "    border-color: transparent;\n",
              "    border-bottom-color: var(--fill-color);\n",
              "    animation:\n",
              "      spin 1s steps(1) infinite;\n",
              "  }\n",
              "\n",
              "  @keyframes spin {\n",
              "    0% {\n",
              "      border-color: transparent;\n",
              "      border-bottom-color: var(--fill-color);\n",
              "      border-left-color: var(--fill-color);\n",
              "    }\n",
              "    20% {\n",
              "      border-color: transparent;\n",
              "      border-left-color: var(--fill-color);\n",
              "      border-top-color: var(--fill-color);\n",
              "    }\n",
              "    30% {\n",
              "      border-color: transparent;\n",
              "      border-left-color: var(--fill-color);\n",
              "      border-top-color: var(--fill-color);\n",
              "      border-right-color: var(--fill-color);\n",
              "    }\n",
              "    40% {\n",
              "      border-color: transparent;\n",
              "      border-right-color: var(--fill-color);\n",
              "      border-top-color: var(--fill-color);\n",
              "    }\n",
              "    60% {\n",
              "      border-color: transparent;\n",
              "      border-right-color: var(--fill-color);\n",
              "    }\n",
              "    80% {\n",
              "      border-color: transparent;\n",
              "      border-right-color: var(--fill-color);\n",
              "      border-bottom-color: var(--fill-color);\n",
              "    }\n",
              "    90% {\n",
              "      border-color: transparent;\n",
              "      border-bottom-color: var(--fill-color);\n",
              "    }\n",
              "  }\n",
              "</style>\n",
              "\n",
              "  <script>\n",
              "    async function quickchart(key) {\n",
              "      const quickchartButtonEl =\n",
              "        document.querySelector('#' + key + ' button');\n",
              "      quickchartButtonEl.disabled = true;  // To prevent multiple clicks.\n",
              "      quickchartButtonEl.classList.add('colab-df-spinner');\n",
              "      try {\n",
              "        const charts = await google.colab.kernel.invokeFunction(\n",
              "            'suggestCharts', [key], {});\n",
              "      } catch (error) {\n",
              "        console.error('Error during call to suggestCharts:', error);\n",
              "      }\n",
              "      quickchartButtonEl.classList.remove('colab-df-spinner');\n",
              "      quickchartButtonEl.classList.add('colab-df-quickchart-complete');\n",
              "    }\n",
              "    (() => {\n",
              "      let quickchartButtonEl =\n",
              "        document.querySelector('#df-b0343de7-1662-4ff8-bbca-5f901dab6ac3 button');\n",
              "      quickchartButtonEl.style.display =\n",
              "        google.colab.kernel.accessAllowed ? 'block' : 'none';\n",
              "    })();\n",
              "  </script>\n",
              "</div>\n",
              "\n",
              "    </div>\n",
              "  </div>\n"
            ],
            "application/vnd.google.colaboratory.intrinsic+json": {
              "type": "dataframe",
              "variable_name": "datacc",
              "summary": "{\n  \"name\": \"datacc\",\n  \"rows\": 213,\n  \"fields\": [\n    {\n      \"column\": \"price\",\n      \"properties\": {\n        \"dtype\": \"number\",\n        \"std\": 4466091,\n        \"min\": 0,\n        \"max\": 16530000,\n        \"num_unique_values\": 79,\n        \"samples\": [\n          14500000,\n          15580000,\n          11800000\n        ],\n        \"semantic_type\": \"\",\n        \"description\": \"\"\n      }\n    },\n    {\n      \"column\": \"year\",\n      \"properties\": {\n        \"dtype\": \"number\",\n        \"std\": 663,\n        \"min\": 0,\n        \"max\": 2025,\n        \"num_unique_values\": 10,\n        \"samples\": [\n          0,\n          2023,\n          2021\n        ],\n        \"semantic_type\": \"\",\n        \"description\": \"\"\n      }\n    },\n    {\n      \"column\": \"kms\",\n      \"properties\": {\n        \"dtype\": \"number\",\n        \"std\": 6133,\n        \"min\": 0,\n        \"max\": 56888,\n        \"num_unique_values\": 117,\n        \"samples\": [\n          269,\n          260,\n          420\n        ],\n        \"semantic_type\": \"\",\n        \"description\": \"\"\n      }\n    },\n    {\n      \"column\": \"color\",\n      \"properties\": {\n        \"dtype\": \"int8\",\n        \"num_unique_values\": 9,\n        \"samples\": [\n          4,\n          5,\n          6\n        ],\n        \"semantic_type\": \"\",\n        \"description\": \"\"\n      }\n    },\n    {\n      \"column\": \"fueltype\",\n      \"properties\": {\n        \"dtype\": \"int8\",\n        \"num_unique_values\": 5,\n        \"samples\": [\n          3,\n          2,\n          -1\n        ],\n        \"semantic_type\": \"\",\n        \"description\": \"\"\n      }\n    }\n  ]\n}"
            }
          },
          "metadata": {},
          "execution_count": 71
        }
      ]
    },
    {
      "cell_type": "markdown",
      "id": "d93d3610",
      "metadata": {
        "id": "d93d3610"
      },
      "source": [
        "## Data Exploration"
      ]
    },
    {
      "cell_type": "code",
      "execution_count": 72,
      "id": "3ff4e61d",
      "metadata": {
        "id": "3ff4e61d",
        "colab": {
          "base_uri": "https://localhost:8080/",
          "height": 300
        },
        "outputId": "95b61e69-16f0-49f9-a9be-2b0c6bb5a253"
      },
      "outputs": [
        {
          "output_type": "execute_result",
          "data": {
            "text/plain": [
              "              price         year           kms\n",
              "count  2.130000e+02   213.000000    213.000000\n",
              "mean   1.000396e+07  1775.309859   1446.309859\n",
              "std    4.466091e+06   663.534147   6133.449251\n",
              "min    0.000000e+00     0.000000      0.000000\n",
              "25%    8.400000e+06  2020.000000     80.000000\n",
              "50%    1.140000e+07  2022.000000    190.000000\n",
              "75%    1.300000e+07  2023.000000    347.000000\n",
              "max    1.653000e+07  2025.000000  56888.000000"
            ],
            "text/html": [
              "\n",
              "  <div id=\"df-84ab1404-357e-4794-9f05-99bd90e9b751\" class=\"colab-df-container\">\n",
              "    <div>\n",
              "<style scoped>\n",
              "    .dataframe tbody tr th:only-of-type {\n",
              "        vertical-align: middle;\n",
              "    }\n",
              "\n",
              "    .dataframe tbody tr th {\n",
              "        vertical-align: top;\n",
              "    }\n",
              "\n",
              "    .dataframe thead th {\n",
              "        text-align: right;\n",
              "    }\n",
              "</style>\n",
              "<table border=\"1\" class=\"dataframe\">\n",
              "  <thead>\n",
              "    <tr style=\"text-align: right;\">\n",
              "      <th></th>\n",
              "      <th>price</th>\n",
              "      <th>year</th>\n",
              "      <th>kms</th>\n",
              "    </tr>\n",
              "  </thead>\n",
              "  <tbody>\n",
              "    <tr>\n",
              "      <th>count</th>\n",
              "      <td>2.130000e+02</td>\n",
              "      <td>213.000000</td>\n",
              "      <td>213.000000</td>\n",
              "    </tr>\n",
              "    <tr>\n",
              "      <th>mean</th>\n",
              "      <td>1.000396e+07</td>\n",
              "      <td>1775.309859</td>\n",
              "      <td>1446.309859</td>\n",
              "    </tr>\n",
              "    <tr>\n",
              "      <th>std</th>\n",
              "      <td>4.466091e+06</td>\n",
              "      <td>663.534147</td>\n",
              "      <td>6133.449251</td>\n",
              "    </tr>\n",
              "    <tr>\n",
              "      <th>min</th>\n",
              "      <td>0.000000e+00</td>\n",
              "      <td>0.000000</td>\n",
              "      <td>0.000000</td>\n",
              "    </tr>\n",
              "    <tr>\n",
              "      <th>25%</th>\n",
              "      <td>8.400000e+06</td>\n",
              "      <td>2020.000000</td>\n",
              "      <td>80.000000</td>\n",
              "    </tr>\n",
              "    <tr>\n",
              "      <th>50%</th>\n",
              "      <td>1.140000e+07</td>\n",
              "      <td>2022.000000</td>\n",
              "      <td>190.000000</td>\n",
              "    </tr>\n",
              "    <tr>\n",
              "      <th>75%</th>\n",
              "      <td>1.300000e+07</td>\n",
              "      <td>2023.000000</td>\n",
              "      <td>347.000000</td>\n",
              "    </tr>\n",
              "    <tr>\n",
              "      <th>max</th>\n",
              "      <td>1.653000e+07</td>\n",
              "      <td>2025.000000</td>\n",
              "      <td>56888.000000</td>\n",
              "    </tr>\n",
              "  </tbody>\n",
              "</table>\n",
              "</div>\n",
              "    <div class=\"colab-df-buttons\">\n",
              "\n",
              "  <div class=\"colab-df-container\">\n",
              "    <button class=\"colab-df-convert\" onclick=\"convertToInteractive('df-84ab1404-357e-4794-9f05-99bd90e9b751')\"\n",
              "            title=\"Convert this dataframe to an interactive table.\"\n",
              "            style=\"display:none;\">\n",
              "\n",
              "  <svg xmlns=\"http://www.w3.org/2000/svg\" height=\"24px\" viewBox=\"0 -960 960 960\">\n",
              "    <path d=\"M120-120v-720h720v720H120Zm60-500h600v-160H180v160Zm220 220h160v-160H400v160Zm0 220h160v-160H400v160ZM180-400h160v-160H180v160Zm440 0h160v-160H620v160ZM180-180h160v-160H180v160Zm440 0h160v-160H620v160Z\"/>\n",
              "  </svg>\n",
              "    </button>\n",
              "\n",
              "  <style>\n",
              "    .colab-df-container {\n",
              "      display:flex;\n",
              "      gap: 12px;\n",
              "    }\n",
              "\n",
              "    .colab-df-convert {\n",
              "      background-color: #E8F0FE;\n",
              "      border: none;\n",
              "      border-radius: 50%;\n",
              "      cursor: pointer;\n",
              "      display: none;\n",
              "      fill: #1967D2;\n",
              "      height: 32px;\n",
              "      padding: 0 0 0 0;\n",
              "      width: 32px;\n",
              "    }\n",
              "\n",
              "    .colab-df-convert:hover {\n",
              "      background-color: #E2EBFA;\n",
              "      box-shadow: 0px 1px 2px rgba(60, 64, 67, 0.3), 0px 1px 3px 1px rgba(60, 64, 67, 0.15);\n",
              "      fill: #174EA6;\n",
              "    }\n",
              "\n",
              "    .colab-df-buttons div {\n",
              "      margin-bottom: 4px;\n",
              "    }\n",
              "\n",
              "    [theme=dark] .colab-df-convert {\n",
              "      background-color: #3B4455;\n",
              "      fill: #D2E3FC;\n",
              "    }\n",
              "\n",
              "    [theme=dark] .colab-df-convert:hover {\n",
              "      background-color: #434B5C;\n",
              "      box-shadow: 0px 1px 3px 1px rgba(0, 0, 0, 0.15);\n",
              "      filter: drop-shadow(0px 1px 2px rgba(0, 0, 0, 0.3));\n",
              "      fill: #FFFFFF;\n",
              "    }\n",
              "  </style>\n",
              "\n",
              "    <script>\n",
              "      const buttonEl =\n",
              "        document.querySelector('#df-84ab1404-357e-4794-9f05-99bd90e9b751 button.colab-df-convert');\n",
              "      buttonEl.style.display =\n",
              "        google.colab.kernel.accessAllowed ? 'block' : 'none';\n",
              "\n",
              "      async function convertToInteractive(key) {\n",
              "        const element = document.querySelector('#df-84ab1404-357e-4794-9f05-99bd90e9b751');\n",
              "        const dataTable =\n",
              "          await google.colab.kernel.invokeFunction('convertToInteractive',\n",
              "                                                    [key], {});\n",
              "        if (!dataTable) return;\n",
              "\n",
              "        const docLinkHtml = 'Like what you see? Visit the ' +\n",
              "          '<a target=\"_blank\" href=https://colab.research.google.com/notebooks/data_table.ipynb>data table notebook</a>'\n",
              "          + ' to learn more about interactive tables.';\n",
              "        element.innerHTML = '';\n",
              "        dataTable['output_type'] = 'display_data';\n",
              "        await google.colab.output.renderOutput(dataTable, element);\n",
              "        const docLink = document.createElement('div');\n",
              "        docLink.innerHTML = docLinkHtml;\n",
              "        element.appendChild(docLink);\n",
              "      }\n",
              "    </script>\n",
              "  </div>\n",
              "\n",
              "\n",
              "<div id=\"df-6767887c-9042-4385-8f61-d7aeeb4418db\">\n",
              "  <button class=\"colab-df-quickchart\" onclick=\"quickchart('df-6767887c-9042-4385-8f61-d7aeeb4418db')\"\n",
              "            title=\"Suggest charts\"\n",
              "            style=\"display:none;\">\n",
              "\n",
              "<svg xmlns=\"http://www.w3.org/2000/svg\" height=\"24px\"viewBox=\"0 0 24 24\"\n",
              "     width=\"24px\">\n",
              "    <g>\n",
              "        <path d=\"M19 3H5c-1.1 0-2 .9-2 2v14c0 1.1.9 2 2 2h14c1.1 0 2-.9 2-2V5c0-1.1-.9-2-2-2zM9 17H7v-7h2v7zm4 0h-2V7h2v10zm4 0h-2v-4h2v4z\"/>\n",
              "    </g>\n",
              "</svg>\n",
              "  </button>\n",
              "\n",
              "<style>\n",
              "  .colab-df-quickchart {\n",
              "      --bg-color: #E8F0FE;\n",
              "      --fill-color: #1967D2;\n",
              "      --hover-bg-color: #E2EBFA;\n",
              "      --hover-fill-color: #174EA6;\n",
              "      --disabled-fill-color: #AAA;\n",
              "      --disabled-bg-color: #DDD;\n",
              "  }\n",
              "\n",
              "  [theme=dark] .colab-df-quickchart {\n",
              "      --bg-color: #3B4455;\n",
              "      --fill-color: #D2E3FC;\n",
              "      --hover-bg-color: #434B5C;\n",
              "      --hover-fill-color: #FFFFFF;\n",
              "      --disabled-bg-color: #3B4455;\n",
              "      --disabled-fill-color: #666;\n",
              "  }\n",
              "\n",
              "  .colab-df-quickchart {\n",
              "    background-color: var(--bg-color);\n",
              "    border: none;\n",
              "    border-radius: 50%;\n",
              "    cursor: pointer;\n",
              "    display: none;\n",
              "    fill: var(--fill-color);\n",
              "    height: 32px;\n",
              "    padding: 0;\n",
              "    width: 32px;\n",
              "  }\n",
              "\n",
              "  .colab-df-quickchart:hover {\n",
              "    background-color: var(--hover-bg-color);\n",
              "    box-shadow: 0 1px 2px rgba(60, 64, 67, 0.3), 0 1px 3px 1px rgba(60, 64, 67, 0.15);\n",
              "    fill: var(--button-hover-fill-color);\n",
              "  }\n",
              "\n",
              "  .colab-df-quickchart-complete:disabled,\n",
              "  .colab-df-quickchart-complete:disabled:hover {\n",
              "    background-color: var(--disabled-bg-color);\n",
              "    fill: var(--disabled-fill-color);\n",
              "    box-shadow: none;\n",
              "  }\n",
              "\n",
              "  .colab-df-spinner {\n",
              "    border: 2px solid var(--fill-color);\n",
              "    border-color: transparent;\n",
              "    border-bottom-color: var(--fill-color);\n",
              "    animation:\n",
              "      spin 1s steps(1) infinite;\n",
              "  }\n",
              "\n",
              "  @keyframes spin {\n",
              "    0% {\n",
              "      border-color: transparent;\n",
              "      border-bottom-color: var(--fill-color);\n",
              "      border-left-color: var(--fill-color);\n",
              "    }\n",
              "    20% {\n",
              "      border-color: transparent;\n",
              "      border-left-color: var(--fill-color);\n",
              "      border-top-color: var(--fill-color);\n",
              "    }\n",
              "    30% {\n",
              "      border-color: transparent;\n",
              "      border-left-color: var(--fill-color);\n",
              "      border-top-color: var(--fill-color);\n",
              "      border-right-color: var(--fill-color);\n",
              "    }\n",
              "    40% {\n",
              "      border-color: transparent;\n",
              "      border-right-color: var(--fill-color);\n",
              "      border-top-color: var(--fill-color);\n",
              "    }\n",
              "    60% {\n",
              "      border-color: transparent;\n",
              "      border-right-color: var(--fill-color);\n",
              "    }\n",
              "    80% {\n",
              "      border-color: transparent;\n",
              "      border-right-color: var(--fill-color);\n",
              "      border-bottom-color: var(--fill-color);\n",
              "    }\n",
              "    90% {\n",
              "      border-color: transparent;\n",
              "      border-bottom-color: var(--fill-color);\n",
              "    }\n",
              "  }\n",
              "</style>\n",
              "\n",
              "  <script>\n",
              "    async function quickchart(key) {\n",
              "      const quickchartButtonEl =\n",
              "        document.querySelector('#' + key + ' button');\n",
              "      quickchartButtonEl.disabled = true;  // To prevent multiple clicks.\n",
              "      quickchartButtonEl.classList.add('colab-df-spinner');\n",
              "      try {\n",
              "        const charts = await google.colab.kernel.invokeFunction(\n",
              "            'suggestCharts', [key], {});\n",
              "      } catch (error) {\n",
              "        console.error('Error during call to suggestCharts:', error);\n",
              "      }\n",
              "      quickchartButtonEl.classList.remove('colab-df-spinner');\n",
              "      quickchartButtonEl.classList.add('colab-df-quickchart-complete');\n",
              "    }\n",
              "    (() => {\n",
              "      let quickchartButtonEl =\n",
              "        document.querySelector('#df-6767887c-9042-4385-8f61-d7aeeb4418db button');\n",
              "      quickchartButtonEl.style.display =\n",
              "        google.colab.kernel.accessAllowed ? 'block' : 'none';\n",
              "    })();\n",
              "  </script>\n",
              "</div>\n",
              "\n",
              "    </div>\n",
              "  </div>\n"
            ],
            "application/vnd.google.colaboratory.intrinsic+json": {
              "type": "dataframe",
              "summary": "{\n  \"name\": \"datacc\",\n  \"rows\": 8,\n  \"fields\": [\n    {\n      \"column\": \"price\",\n      \"properties\": {\n        \"dtype\": \"number\",\n        \"std\": 6023488.074626334,\n        \"min\": 0.0,\n        \"max\": 16530000.0,\n        \"num_unique_values\": 8,\n        \"samples\": [\n          10003957.267605634,\n          11400000.0,\n          213.0\n        ],\n        \"semantic_type\": \"\",\n        \"description\": \"\"\n      }\n    },\n    {\n      \"column\": \"year\",\n      \"properties\": {\n        \"dtype\": \"number\",\n        \"std\": 892.5091499337108,\n        \"min\": 0.0,\n        \"max\": 2025.0,\n        \"num_unique_values\": 8,\n        \"samples\": [\n          1775.3098591549297,\n          2022.0,\n          213.0\n        ],\n        \"semantic_type\": \"\",\n        \"description\": \"\"\n      }\n    },\n    {\n      \"column\": \"kms\",\n      \"properties\": {\n        \"dtype\": \"number\",\n        \"std\": 19796.064420637525,\n        \"min\": 0.0,\n        \"max\": 56888.0,\n        \"num_unique_values\": 8,\n        \"samples\": [\n          1446.3098591549297,\n          190.0,\n          213.0\n        ],\n        \"semantic_type\": \"\",\n        \"description\": \"\"\n      }\n    }\n  ]\n}"
            }
          },
          "metadata": {},
          "execution_count": 72
        }
      ],
      "source": [
        "# Descriptive statistics\n",
        "datacc.describe()[['price','year','kms']]"
      ]
    },
    {
      "cell_type": "markdown",
      "id": "c964a2f1",
      "metadata": {
        "id": "c964a2f1"
      },
      "source": [
        "#### Histograms"
      ]
    },
    {
      "cell_type": "code",
      "execution_count": 73,
      "id": "f00a9d42",
      "metadata": {
        "id": "f00a9d42",
        "colab": {
          "base_uri": "https://localhost:8080/",
          "height": 621
        },
        "outputId": "f7258343-f29f-4ed7-ce80-46cd26a5fda6"
      },
      "outputs": [
        {
          "output_type": "execute_result",
          "data": {
            "text/plain": [
              "Text(0.5, 1.0, '$kms$')"
            ]
          },
          "metadata": {},
          "execution_count": 73
        },
        {
          "output_type": "display_data",
          "data": {
            "text/plain": [
              "<Figure size 1500x600 with 3 Axes>"
            ],
            "image/png": "[encoded data removed]"
          },
          "metadata": {}
        }
      ],
      "source": [
        "# Histograms\n",
        "fig, (ax1, ax2, ax3) = plt.subplots(1, 3, figsize=(15,6))\n",
        "fig.suptitle('Histograms for some variables')\n",
        "sns.histplot(datacc['price'], ax=ax1)\n",
        "ax1.set_title('$Price$')\n",
        "sns.histplot(datacc['year'], ax=ax2)\n",
        "ax2.set_title('$Year$')\n",
        "sns.histplot(datacc['kms'], ax=ax3)\n",
        "ax3.set_title('$kms$')"
      ]
    },
    {
      "cell_type": "markdown",
      "source": [
        "En el histograma podemos ver lo siguiente:\n",
        "Precio (Price): Este histograma muestra la distribución de ‘Precio’. El rango va de 0 a 1.5e7 en el eje x y una cuenta hasta 60 en el eje y. La forma del histograma sugiere que hay más elementos (posiblemente coches, dado el contexto de ‘Año’ y ‘Kms’) en rangos de precios más bajos que en los más altos. Esto podría indicar que los elementos de precio más bajo son más comunes o preferidos en este conjunto de datos.\n",
        "Año (Year): Este histograma representa ‘Año’ con un rango aproximado de 500 a 2000 en el eje x y una cuenta hasta 60 en el eje y. La distribución parece bastante uniforme, lo que podría sugerir que los datos de los años están bien distribuidos en este rango.\n",
        "Kilómetros (Kms): Este histograma es para ‘Kms’ con un rango en el eje x que se extiende de 0 a alrededor de 50000 y una cuenta hasta 60 en el eje y. La forma del histograma sugiere que hay más coches con kilometraje más bajo en este conjunto de datos."
      ],
      "metadata": {
        "id": "kq9kGxUEtLEn"
      },
      "id": "kq9kGxUEtLEn"
    },
    {
      "cell_type": "markdown",
      "id": "30509a3e",
      "metadata": {
        "id": "30509a3e"
      },
      "source": [
        "#### Boxplots"
      ]
    },
    {
      "cell_type": "code",
      "execution_count": 74,
      "id": "8c26fc4d",
      "metadata": {
        "id": "8c26fc4d",
        "colab": {
          "base_uri": "https://localhost:8080/",
          "height": 514
        },
        "outputId": "225c0acf-92c3-4204-cdee-63b42ed610fa"
      },
      "outputs": [
        {
          "output_type": "execute_result",
          "data": {
            "text/plain": [
              "<Axes: >"
            ]
          },
          "metadata": {},
          "execution_count": 74
        },
        {
          "output_type": "display_data",
          "data": {
            "text/plain": [
              "<Figure size 1500x500 with 3 Axes>"
            ],
            "image/png": "[encoded data removed]"
          },
          "metadata": {}
        }
      ],
      "source": [
        "### Boxplot\n",
        "fig, (ax1, ax2, ax3) = plt.subplots(1, 3, figsize=(15,5))\n",
        "fig.suptitle('Boxplots for some variables')\n",
        "sns.boxplot(data=datacc[['price']], ax=ax1)\n",
        "sns.boxplot(data=datacc[['year']], ax=ax2)\n",
        "sns.boxplot(data=datacc[['kms']], ax=ax3)"
      ]
    },
    {
      "cell_type": "markdown",
      "source": [
        "Al analizar el boxplots, podemos ver lo siguiente en cada variable:\n",
        "Precio (Price): Este boxplot muestra la distribución de ‘Precio’. Los boxplots son una forma estandarizada de mostrar la distribución de los datos basada en un resumen de cinco números: mínimo, primer cuartil (Q1), mediana, tercer cuartil (Q3) y máximo. En este caso, parece que hay algunos valores atípicos en el extremo superior del rango de precios, lo que podría indicar la presencia de algunos elementos con precios significativamente más altos que la mayoría.\n",
        "Año (Year): Este boxplot representa ‘Año’. La mediana parece estar alrededor del año 2000, y la mayoría de los datos se encuentran entre aproximadamente 1750 y 2250. No parece haber valores atípicos en este caso, lo que indica que todos los años en este conjunto de datos están dentro de un rango esperado.\n",
        "Kilómetros (Kms): Este boxplot es para ‘Kms’. La mediana está cerca de 25000 kms, y la mayoría de los datos se encuentran entre 0 y 50000 kms. Hay algunos valores atípicos en el extremo superior, lo que podría indicar la presencia de algunos elementos con kilometrajes significativamente más altos que la mayoría."
      ],
      "metadata": {
        "id": "C5liRmTCSNVO"
      },
      "id": "C5liRmTCSNVO"
    },
    {
      "cell_type": "code",
      "source": [
        "from google.colab import drive\n",
        "drive.mount('/content/drive')"
      ],
      "metadata": {
        "id": "oKe1bt-sVuQx",
        "colab": {
          "base_uri": "https://localhost:8080/"
        },
        "outputId": "0cc38c88-d834-452d-b805-aa786a298d35"
      },
      "id": "oKe1bt-sVuQx",
      "execution_count": null,
      "outputs": [
        {
          "output_type": "stream",
          "name": "stdout",
          "text": [
            "Mounted at /content/drive\n"
          ]
        }
      ]
    },
    {
      "cell_type": "markdown",
      "id": "7c1de9a6",
      "metadata": {
        "id": "7c1de9a6"
      },
      "source": [
        "#### Ouliers treatment\n",
        "_https://www.statology.org/remove-outliers-python/_  \n",
        "_https://towardsdatascience.com/a-complete-guide-for-detecting-and-dealing-with-outliers-bad26b1e92b6_  \n",
        "_https://www.scribbr.com/statistics/outliers/_  \n",
        "_https://www.statology.org/remove-outliers/_  "
      ]
    },
    {
      "cell_type": "code",
      "execution_count": 75,
      "id": "118fe4b4",
      "metadata": {
        "id": "118fe4b4",
        "colab": {
          "base_uri": "https://localhost:8080/",
          "height": 514
        },
        "outputId": "9ba21a7a-27fc-47bd-91c0-26b0b2cc4dd2"
      },
      "outputs": [
        {
          "output_type": "execute_result",
          "data": {
            "text/plain": [
              "<Axes: >"
            ]
          },
          "metadata": {},
          "execution_count": 75
        },
        {
          "output_type": "display_data",
          "data": {
            "text/plain": [
              "<Figure size 1500x500 with 3 Axes>"
            ],
            "image/png": "[encoded data removed]"
          },
          "metadata": {}
        }
      ],
      "source": [
        "# Z score to eliminate outliers of 'year' and 'kms'\n",
        "from scipy import stats\n",
        "\n",
        "#find absolute value of z-score for each observation of 'kms'\n",
        "z2 = np.abs(stats.zscore(datacc['kms']))\n",
        "\n",
        "#only keep rows in dataframe with all z-scores less than absolute value of 3\n",
        "toremove = datacc.kms[(z2>2)].index\n",
        "datacc = datacc.drop(toremove)\n",
        "\n",
        "fig, (ax1, ax2, ax3) = plt.subplots(1, 3, figsize=(15,5))\n",
        "fig.suptitle('Boxplots for some variables')\n",
        "sns.boxplot(data=datacc[['price']], ax=ax1)\n",
        "sns.boxplot(data=datacc[['year']], ax=ax2)\n",
        "sns.boxplot(data=datacc[['kms']], ax=ax3)"
      ]
    },
    {
      "cell_type": "code",
      "source": [
        "# Histograms\n",
        "fig, (ax1, ax2, ax3) = plt.subplots(1, 3, figsize=(15,6))\n",
        "fig.suptitle('Histograms for some variables')\n",
        "sns.histplot(datacc['price'], ax=ax1)\n",
        "ax1.set_title('$Price$')\n",
        "sns.histplot(datacc['year'], ax=ax2)\n",
        "ax2.set_title('$Year$')\n",
        "sns.histplot(datacc['kms'], ax=ax3)\n",
        "ax3.set_title('$kms$')"
      ],
      "metadata": {
        "id": "HhIWoCmEqgap",
        "colab": {
          "base_uri": "https://localhost:8080/",
          "height": 621
        },
        "outputId": "f2b3e4af-91bf-4e86-e344-3ac8ee3bb001"
      },
      "id": "HhIWoCmEqgap",
      "execution_count": 76,
      "outputs": [
        {
          "output_type": "execute_result",
          "data": {
            "text/plain": [
              "Text(0.5, 1.0, '$kms$')"
            ]
          },
          "metadata": {},
          "execution_count": 76
        },
        {
          "output_type": "display_data",
          "data": {
            "text/plain": [
              "<Figure size 1500x600 with 3 Axes>"
            ],
            "image/png": "[encoded data removed]"
          },
          "metadata": {}
        }
      ]
    },
    {
      "cell_type": "markdown",
      "source": [
        "El gráfico proporcionado despues de realizar el analisis correspondiente nos muestra tres histogramas que representan diferentes variables: Precio, Año y Kilómetros (Kms). Cada histograma ofrece una visión visual de la distribución de estas variables, lo cual es esencial para el análisis de datos.\n",
        "\n",
        "Precio (Price): El histograma de ‘Precio’ muestra una distribución sesgada hacia la derecha. Esto indica que la mayoría de los precios son bajos, con algunos precios significativamente más altos. La concentración de datos en el extremo inferior del rango de precios sugiere que los elementos de precio más bajo son más comunes en este conjunto de datos. Los valores atípicos en el extremo superior podrían indicar la presencia de algunos elementos con precios significativamente más altos que la mayoría.\n",
        "Año (Year): El histograma de ‘Año’ parece estar sesgado hacia la izquierda, lo que indica que la mayoría de los datos se agrupan en años más recientes. Esto podría sugerir que la mayoría de los elementos en este conjunto de datos son relativamente nuevos. La ausencia de valores atípicos sugiere que todos los años en este conjunto de datos están dentro de un rango esperado.\n",
        "Kilómetros (Kms): El histograma de ‘Kms’ muestra una distribución extremadamente sesgada hacia la derecha. Casi todos los valores están cerca de cero, con muy pocos que se extienden hacia kilómetros más altos. Esto podría indicar que la mayoría de los elementos en este conjunto de datos tienen un kilometraje bajo. Los valores atípicos en el extremo superior podrían representar elementos con un kilometraje significativamente más alto que la mayoría."
      ],
      "metadata": {
        "id": "n7faD4-nTEM3"
      },
      "id": "n7faD4-nTEM3"
    },
    {
      "cell_type": "markdown",
      "id": "a2190f9b",
      "metadata": {
        "id": "a2190f9b"
      },
      "source": [
        "### EDA (Exploratory Data Analysis)"
      ]
    },
    {
      "cell_type": "markdown",
      "id": "cf139630",
      "metadata": {
        "id": "cf139630"
      },
      "source": [
        "#### Correlations"
      ]
    },
    {
      "cell_type": "code",
      "execution_count": 77,
      "id": "8c0f031a",
      "metadata": {
        "id": "8c0f031a",
        "colab": {
          "base_uri": "https://localhost:8080/",
          "height": 1000
        },
        "outputId": "0830c76a-027c-4e62-8c2b-adc32a60c02d"
      },
      "outputs": [
        {
          "output_type": "display_data",
          "data": {
            "text/plain": [
              "<Figure size 1500x1500 with 2 Axes>"
            ],
            "image/png": "[encoded data removed]"
          },
          "metadata": {}
        }
      ],
      "source": [
        "def correlation_heatmap(train):\n",
        "    correlations = train.corr()\n",
        "\n",
        "    fig, ax = plt.subplots(figsize=(15,15))\n",
        "    sns.heatmap(correlations, vmax=1.0, center=0, fmt='.2f', cmap=\"YlGnBu\",\n",
        "                square=True, linewidths=.2, annot=False, cbar_kws={\"shrink\": .95}\n",
        "                )\n",
        "    plt.show();\n",
        "\n",
        "correlation_heatmap(X[['year', 'kms']])"
      ]
    },
    {
      "cell_type": "markdown",
      "source": [
        "En este mapa de calor, hay cuatro grandes cuadrados, cada uno representando un punto de datos con diferentes tonos de azul. La intensidad del color se correlaciona con el valor indicado por la escala de colores en el lado derecho del mapa de calor, que varía de 0.0 a 0.8. Cuanto más oscuro es el tono de azul, mayor es el valor que representa."
      ],
      "metadata": {
        "id": "hxlRvMDeTtYT"
      },
      "id": "hxlRvMDeTtYT"
    },
    {
      "cell_type": "code",
      "execution_count": null,
      "id": "6e23955d",
      "metadata": {
        "id": "6e23955d",
        "colab": {
          "base_uri": "https://localhost:8080/",
          "height": 524
        },
        "outputId": "e90785d9-4ce0-48eb-b242-c180e1656a39"
      },
      "outputs": [
        {
          "output_type": "execute_result",
          "data": {
            "text/plain": [
              "<seaborn.axisgrid.PairGrid at 0x78f6b4aa4610>"
            ]
          },
          "metadata": {},
          "execution_count": 43
        },
        {
          "output_type": "display_data",
          "data": {
            "text/plain": [
              "<Figure size 500x500 with 4 Axes>"
            ],
            "image/png": "[encoded data removed]"
          },
          "metadata": {}
        }
      ],
      "source": [
        "g = sns.PairGrid(X[['year', 'kms']])\n",
        "g.map(sns.scatterplot)"
      ]
    },
    {
      "cell_type": "markdown",
      "source": [
        "En la gráfica que vemos anteriormente podemos inferir lo siguiente:\n",
        "Gráfico superior izquierdo (Año vs Kms): Este gráfico muestra ‘Año’ en el eje vertical y ‘Kms’ en el eje horizontal. Los puntos de datos están principalmente agrupados hacia la parte inferior del gráfico con algunos dispersos hacia arriba, lo que sugiere un aumento con el tiempo.\n",
        "Gráfico superior derecho (Año vs Kms): Este gráfico también muestra ‘Año’ en el eje vertical y ‘Kms’ en el eje horizontal. Este gráfico muestra una distribución dispersa de puntos a través de ambos ejes sin un patrón claro.\n",
        "Gráfico inferior izquierdo (Kms vs Año): Este gráfico muestra ‘Kms’ en el eje vertical y ‘Año’ en el eje horizontal. Los puntos de datos están fuertemente agrupados en el extremo inferior del eje vertical cerca de cero.\n",
        "Gráfico inferior derecho (Kms vs Kms): Este gráfico muestra ‘Kms’ en ambos ejes. Hay una concentración de puntos hacia cero en ambos ejes, con algo de dispersión a lo largo de ambos ejes."
      ],
      "metadata": {
        "id": "8rvNhhvGUC-_"
      },
      "id": "8rvNhhvGUC-_"
    },
    {
      "cell_type": "markdown",
      "id": "b328b436",
      "metadata": {
        "id": "b328b436"
      },
      "source": [
        "## Modeling: machine learning"
      ]
    },
    {
      "cell_type": "markdown",
      "id": "c0cac588",
      "metadata": {
        "id": "c0cac588"
      },
      "source": [
        "### Libraries"
      ]
    },
    {
      "cell_type": "markdown",
      "source": [],
      "metadata": {
        "id": "v0VQ36eOxSeD"
      },
      "id": "v0VQ36eOxSeD"
    },
    {
      "cell_type": "code",
      "execution_count": null,
      "id": "e42a7a9f",
      "metadata": {
        "id": "e42a7a9f"
      },
      "outputs": [],
      "source": [
        "from sklearn.preprocessing import StandardScaler\n",
        "from sklearn.model_selection import train_test_split as split\n",
        "from sklearn.linear_model import LinearRegression\n",
        "from sklearn.metrics import mean_squared_error as MSE, r2_score\n",
        "from sklearn.metrics import mean_absolute_error as MAE\n",
        "import pickle"
      ]
    },
    {
      "cell_type": "markdown",
      "id": "cf09ba88",
      "metadata": {
        "id": "cf09ba88"
      },
      "source": [
        "### Data partitioning\n"
      ]
    },
    {
      "cell_type": "code",
      "execution_count": null,
      "id": "0ce7274b",
      "metadata": {
        "id": "0ce7274b",
        "colab": {
          "base_uri": "https://localhost:8080/"
        },
        "outputId": "a994f4aa-c445-4d55-a340-36729167b528"
      },
      "outputs": [
        {
          "output_type": "stream",
          "name": "stdout",
          "text": [
            "(51, 4)\n",
            "(51,)\n"
          ]
        }
      ],
      "source": [
        "X = datacc.copy()\n",
        "X = X.drop(['price'], axis=1)\n",
        "print(X.shape)\n",
        "\n",
        "Y = pd.DataFrame()\n",
        "Y = datacc['price']\n",
        "print(Y.shape)"
      ]
    },
    {
      "cell_type": "code",
      "execution_count": null,
      "id": "d1c218b0",
      "metadata": {
        "id": "d1c218b0",
        "colab": {
          "base_uri": "https://localhost:8080/"
        },
        "outputId": "6ac2679a-59e0-47c2-9056-6f957555f1b0"
      },
      "outputs": [
        {
          "output_type": "execute_result",
          "data": {
            "text/plain": [
              "(51, 4)"
            ]
          },
          "metadata": {},
          "execution_count": 46
        }
      ],
      "source": [
        "# Data set normalization and partitioning\n",
        "sc = StandardScaler()\n",
        "Xsc = sc.fit(X)\n",
        "Xt = Xsc.transform(X)\n",
        "Xt.shape"
      ]
    },
    {
      "cell_type": "code",
      "execution_count": null,
      "id": "b4a2dcc8",
      "metadata": {
        "id": "b4a2dcc8"
      },
      "outputs": [],
      "source": [
        "X_train, X_test, y_train, y_test = split(Xt,Y,\n",
        "                                         test_size=0.20,\n",
        "                                         random_state=42)"
      ]
    },
    {
      "cell_type": "markdown",
      "id": "a75c11f1",
      "metadata": {
        "id": "a75c11f1"
      },
      "source": [
        "[texto del vínculo](https://)### Multivariate lineal regression"
      ]
    },
    {
      "cell_type": "code",
      "execution_count": null,
      "id": "68141262",
      "metadata": {
        "id": "68141262"
      },
      "outputs": [],
      "source": [
        "# Define model and prediction\n",
        "ols = LinearRegression()\n",
        "model1 = ols.fit(X_train, y_train)\n",
        "y_pred1 = model1.predict(X_test)"
      ]
    },
    {
      "cell_type": "code",
      "execution_count": null,
      "id": "29763683",
      "metadata": {
        "id": "29763683",
        "colab": {
          "base_uri": "https://localhost:8080/"
        },
        "outputId": "b3046f1f-6053-4241-dfad-ba6244e6d137"
      },
      "outputs": [
        {
          "output_type": "stream",
          "name": "stdout",
          "text": [
            "RMSE: 54540239.70\n",
            "MAE: 40189490.00\n",
            "R2: 0.19\n"
          ]
        }
      ],
      "source": [
        "# accuracy check\n",
        "rmse = MSE(y_test, y_pred1, squared=False)\n",
        "mae = MAE(y_test, y_pred1)\n",
        "r2 = r2_score(y_test, y_pred1)\n",
        "print(\"RMSE: %.2f\" % rmse)\n",
        "print(\"MAE: %.2f\" % mae)\n",
        "print(\"R2: %.2f\" % r2)"
      ]
    },
    {
      "cell_type": "markdown",
      "id": "b98a2822",
      "metadata": {
        "id": "b98a2822"
      },
      "source": [
        "**texto en negrita**### Light GBM\n",
        "https://www.analyticsvidhya.com/blog/2021/08/complete-guide-on-how-to-use-lightgbm-in-python/   \n",
        "https://www.datatechnotes.com/2022/03/lightgbm-regression-example-in-python.html  "
      ]
    },
    {
      "cell_type": "code",
      "execution_count": null,
      "id": "9ae5d7a5",
      "metadata": {
        "id": "9ae5d7a5",
        "colab": {
          "base_uri": "https://localhost:8080/"
        },
        "outputId": "63727da1-ac23-443b-db00-8264a63c8415"
      },
      "outputs": [
        {
          "output_type": "stream",
          "name": "stdout",
          "text": [
            "Requirement already satisfied: lightgbm in /usr/local/lib/python3.10/dist-packages (4.1.0)\n",
            "Requirement already satisfied: numpy in /usr/local/lib/python3.10/dist-packages (from lightgbm) (1.25.2)\n",
            "Requirement already satisfied: scipy in /usr/local/lib/python3.10/dist-packages (from lightgbm) (1.11.4)\n"
          ]
        }
      ],
      "source": [
        "!pip install lightgbm"
      ]
    },
    {
      "cell_type": "code",
      "execution_count": null,
      "id": "8cc798fa",
      "metadata": {
        "id": "8cc798fa"
      },
      "outputs": [],
      "source": [
        "import lightgbm as lgb"
      ]
    },
    {
      "cell_type": "code",
      "execution_count": null,
      "id": "8742c9fb",
      "metadata": {
        "id": "8742c9fb",
        "colab": {
          "base_uri": "https://localhost:8080/"
        },
        "outputId": "7e5f22cb-1abf-4eea-924f-419427ab5232"
      },
      "outputs": [
        {
          "output_type": "stream",
          "name": "stdout",
          "text": [
            "[LightGBM] [Warning] No further splits with positive gain, best gain: -inf\n",
            "[LightGBM] [Warning] No further splits with positive gain, best gain: -inf\n",
            "[LightGBM] [Warning] No further splits with positive gain, best gain: -inf\n",
            "[LightGBM] [Warning] No further splits with positive gain, best gain: -inf\n",
            "[LightGBM] [Warning] No further splits with positive gain, best gain: -inf\n",
            "[LightGBM] [Warning] No further splits with positive gain, best gain: -inf\n",
            "[LightGBM] [Warning] No further splits with positive gain, best gain: -inf\n",
            "[LightGBM] [Warning] No further splits with positive gain, best gain: -inf\n",
            "[LightGBM] [Warning] No further splits with positive gain, best gain: -inf\n",
            "[LightGBM] [Warning] No further splits with positive gain, best gain: -inf\n",
            "[LightGBM] [Warning] No further splits with positive gain, best gain: -inf\n",
            "[LightGBM] [Warning] No further splits with positive gain, best gain: -inf\n",
            "[LightGBM] [Warning] No further splits with positive gain, best gain: -inf\n",
            "[LightGBM] [Warning] No further splits with positive gain, best gain: -inf\n",
            "[LightGBM] [Warning] No further splits with positive gain, best gain: -inf\n",
            "[LightGBM] [Warning] No further splits with positive gain, best gain: -inf\n",
            "[LightGBM] [Warning] No further splits with positive gain, best gain: -inf\n",
            "[LightGBM] [Warning] No further splits with positive gain, best gain: -inf\n",
            "[LightGBM] [Warning] No further splits with positive gain, best gain: -inf\n",
            "[LightGBM] [Warning] No further splits with positive gain, best gain: -inf\n",
            "[LightGBM] [Warning] No further splits with positive gain, best gain: -inf\n",
            "[LightGBM] [Warning] No further splits with positive gain, best gain: -inf\n",
            "[LightGBM] [Warning] No further splits with positive gain, best gain: -inf\n",
            "[LightGBM] [Warning] No further splits with positive gain, best gain: -inf\n",
            "[LightGBM] [Warning] No further splits with positive gain, best gain: -inf\n",
            "[LightGBM] [Warning] No further splits with positive gain, best gain: -inf\n",
            "[LightGBM] [Warning] No further splits with positive gain, best gain: -inf\n",
            "[LightGBM] [Warning] No further splits with positive gain, best gain: -inf\n",
            "[LightGBM] [Warning] No further splits with positive gain, best gain: -inf\n",
            "[LightGBM] [Warning] No further splits with positive gain, best gain: -inf\n",
            "[LightGBM] [Warning] No further splits with positive gain, best gain: -inf\n",
            "[LightGBM] [Warning] No further splits with positive gain, best gain: -inf\n",
            "[LightGBM] [Warning] No further splits with positive gain, best gain: -inf\n",
            "[LightGBM] [Warning] No further splits with positive gain, best gain: -inf\n",
            "[LightGBM] [Warning] No further splits with positive gain, best gain: -inf\n",
            "[LightGBM] [Warning] No further splits with positive gain, best gain: -inf\n",
            "[LightGBM] [Warning] No further splits with positive gain, best gain: -inf\n",
            "[LightGBM] [Warning] No further splits with positive gain, best gain: -inf\n",
            "[LightGBM] [Warning] No further splits with positive gain, best gain: -inf\n",
            "[LightGBM] [Warning] No further splits with positive gain, best gain: -inf\n",
            "[LightGBM] [Warning] No further splits with positive gain, best gain: -inf\n",
            "[LightGBM] [Warning] No further splits with positive gain, best gain: -inf\n",
            "[LightGBM] [Warning] No further splits with positive gain, best gain: -inf\n",
            "[LightGBM] [Warning] No further splits with positive gain, best gain: -inf\n",
            "[LightGBM] [Warning] No further splits with positive gain, best gain: -inf\n",
            "[LightGBM] [Warning] No further splits with positive gain, best gain: -inf\n",
            "[LightGBM] [Warning] No further splits with positive gain, best gain: -inf\n",
            "[LightGBM] [Warning] No further splits with positive gain, best gain: -inf\n",
            "[LightGBM] [Warning] No further splits with positive gain, best gain: -inf\n",
            "[LightGBM] [Warning] No further splits with positive gain, best gain: -inf\n",
            "[LightGBM] [Warning] No further splits with positive gain, best gain: -inf\n",
            "[LightGBM] [Warning] No further splits with positive gain, best gain: -inf\n",
            "[LightGBM] [Warning] No further splits with positive gain, best gain: -inf\n",
            "[LightGBM] [Warning] No further splits with positive gain, best gain: -inf\n",
            "[LightGBM] [Warning] No further splits with positive gain, best gain: -inf\n",
            "[LightGBM] [Warning] No further splits with positive gain, best gain: -inf\n",
            "[LightGBM] [Warning] No further splits with positive gain, best gain: -inf\n",
            "[LightGBM] [Warning] No further splits with positive gain, best gain: -inf\n",
            "[LightGBM] [Warning] No further splits with positive gain, best gain: -inf\n",
            "[LightGBM] [Warning] No further splits with positive gain, best gain: -inf\n",
            "[LightGBM] [Warning] No further splits with positive gain, best gain: -inf\n",
            "[LightGBM] [Warning] No further splits with positive gain, best gain: -inf\n",
            "[LightGBM] [Warning] No further splits with positive gain, best gain: -inf\n",
            "[LightGBM] [Warning] No further splits with positive gain, best gain: -inf\n",
            "[LightGBM] [Warning] No further splits with positive gain, best gain: -inf\n",
            "[LightGBM] [Warning] No further splits with positive gain, best gain: -inf\n",
            "[LightGBM] [Warning] No further splits with positive gain, best gain: -inf\n",
            "[LightGBM] [Warning] No further splits with positive gain, best gain: -inf\n",
            "[LightGBM] [Warning] No further splits with positive gain, best gain: -inf\n",
            "[LightGBM] [Warning] No further splits with positive gain, best gain: -inf\n",
            "[LightGBM] [Warning] No further splits with positive gain, best gain: -inf\n",
            "[LightGBM] [Warning] No further splits with positive gain, best gain: -inf\n",
            "[LightGBM] [Warning] No further splits with positive gain, best gain: -inf\n",
            "[LightGBM] [Warning] No further splits with positive gain, best gain: -inf\n",
            "[LightGBM] [Warning] No further splits with positive gain, best gain: -inf\n",
            "[LightGBM] [Warning] No further splits with positive gain, best gain: -inf\n",
            "[LightGBM] [Warning] No further splits with positive gain, best gain: -inf\n",
            "[LightGBM] [Warning] No further splits with positive gain, best gain: -inf\n",
            "[LightGBM] [Warning] No further splits with positive gain, best gain: -inf\n",
            "[LightGBM] [Warning] No further splits with positive gain, best gain: -inf\n",
            "[LightGBM] [Warning] No further splits with positive gain, best gain: -inf\n",
            "[LightGBM] [Warning] No further splits with positive gain, best gain: -inf\n",
            "[LightGBM] [Warning] No further splits with positive gain, best gain: -inf\n",
            "[LightGBM] [Warning] No further splits with positive gain, best gain: -inf\n",
            "[LightGBM] [Warning] No further splits with positive gain, best gain: -inf\n",
            "[LightGBM] [Warning] No further splits with positive gain, best gain: -inf\n",
            "[LightGBM] [Warning] No further splits with positive gain, best gain: -inf\n",
            "[LightGBM] [Warning] No further splits with positive gain, best gain: -inf\n",
            "[LightGBM] [Warning] No further splits with positive gain, best gain: -inf\n",
            "[LightGBM] [Warning] No further splits with positive gain, best gain: -inf\n",
            "[LightGBM] [Warning] No further splits with positive gain, best gain: -inf\n",
            "[LightGBM] [Warning] No further splits with positive gain, best gain: -inf\n",
            "[LightGBM] [Warning] No further splits with positive gain, best gain: -inf\n",
            "[LightGBM] [Warning] No further splits with positive gain, best gain: -inf\n",
            "[LightGBM] [Warning] No further splits with positive gain, best gain: -inf\n",
            "[LightGBM] [Warning] No further splits with positive gain, best gain: -inf\n",
            "[LightGBM] [Warning] No further splits with positive gain, best gain: -inf\n",
            "[LightGBM] [Warning] No further splits with positive gain, best gain: -inf\n",
            "[LightGBM] [Warning] No further splits with positive gain, best gain: -inf\n",
            "[LightGBM] [Warning] No further splits with positive gain, best gain: -inf\n"
          ]
        }
      ],
      "source": [
        "# Hyperparameters\n",
        "params = {\n",
        "    'task': 'train',\n",
        "    'boosting': 'gbdt',\n",
        "    'objective': 'regression',\n",
        "    'num_leaves': 10,\n",
        "    'learning_rate': 0.05,\n",
        "    'metric': {'l2','l1'},\n",
        "    'header' : 'true',\n",
        "    'verbose': 0\n",
        "}\n",
        "\n",
        "# laoding data\n",
        "lgb_train = lgb.Dataset(X_train, y_train)\n",
        "lgb_eval = lgb.Dataset(X_test, y_test, reference=lgb_train)\n",
        "\n",
        "# fitting the model\n",
        "model2 = lgb.train(params,\n",
        "                 train_set=lgb_train,\n",
        "                 valid_sets=lgb_eval)\n",
        "# Pred\n",
        "y_pred2 = model2.predict(X_test)"
      ]
    },
    {
      "cell_type": "code",
      "execution_count": null,
      "id": "future-recruitment",
      "metadata": {
        "id": "future-recruitment",
        "colab": {
          "base_uri": "https://localhost:8080/"
        },
        "outputId": "44455756-efd5-4c24-9af5-c1c5fdc2c5d1"
      },
      "outputs": [
        {
          "output_type": "stream",
          "name": "stdout",
          "text": [
            "RMSE: 51233954.19\n",
            "MAE: 33982890.29\n",
            "R2: 0.29\n"
          ]
        }
      ],
      "source": [
        "# accuracy check\n",
        "rmse = MSE(y_test, y_pred2, squared=False)\n",
        "mae = MAE(y_test, y_pred2)\n",
        "r2 = r2_score(y_test, y_pred2)\n",
        "print(\"RMSE: %.2f\" % rmse)\n",
        "print(\"MAE: %.2f\" % mae)\n",
        "print(\"R2: %.2f\" % r2)"
      ]
    },
    {
      "cell_type": "code",
      "execution_count": null,
      "id": "35d67d4f",
      "metadata": {
        "id": "35d67d4f",
        "colab": {
          "base_uri": "https://localhost:8080/",
          "height": 564
        },
        "outputId": "9176e0af-b9e2-482a-889b-100a1e9ad8b5"
      },
      "outputs": [
        {
          "output_type": "display_data",
          "data": {
            "text/plain": [
              "<Figure size 1200x600 with 1 Axes>"
            ],
            "image/png": "[encoded data removed]"
          },
          "metadata": {}
        }
      ],
      "source": [
        "# visualizing in a plot\n",
        "x_ax = range(len(y_test))\n",
        "plt.figure(figsize=(12, 6))\n",
        "plt.plot(x_ax, y_test, label=\"original\")\n",
        "plt.plot(x_ax, y_pred2, label=\"predicted\")\n",
        "plt.title(\"Original and predicted car prices\")\n",
        "plt.xlabel('X')\n",
        "plt.ylabel('Price')\n",
        "plt.legend(loc='best', fancybox=True, shadow=True)\n",
        "plt.grid(True)\n",
        "plt.show()"
      ]
    },
    {
      "cell_type": "code",
      "execution_count": null,
      "id": "6a4ef815",
      "metadata": {
        "id": "6a4ef815",
        "colab": {
          "base_uri": "https://localhost:8080/",
          "height": 472
        },
        "outputId": "c019b5ca-2920-46b6-d578-8380e6c8f332"
      },
      "outputs": [
        {
          "output_type": "display_data",
          "data": {
            "text/plain": [
              "<Figure size 640x480 with 1 Axes>"
            ],
            "image/png": "[encoded data removed]"
          },
          "metadata": {}
        }
      ],
      "source": [
        "# plotting feature importance\n",
        "ax = lgb.plot_importance(model2, height=.5, title=\"LightGBM Feature Importance\")\n"
      ]
    },
    {
      "cell_type": "code",
      "execution_count": null,
      "id": "cd3c6abe",
      "metadata": {
        "id": "cd3c6abe",
        "colab": {
          "base_uri": "https://localhost:8080/",
          "height": 513
        },
        "outputId": "4bffb725-3f22-4045-e1f7-07fef7fe3da9"
      },
      "outputs": [
        {
          "output_type": "execute_result",
          "data": {
            "text/plain": [
              "<Axes: >"
            ]
          },
          "metadata": {},
          "execution_count": 57
        },
        {
          "output_type": "display_data",
          "data": {
            "text/plain": [
              "<Figure size 3000x4000 with 1 Axes>"
            ],
            "image/png": "[encoded data removed]"
          },
          "metadata": {}
        }
      ],
      "source": [
        "lgb.plot_tree(model2,figsize=(30,40))"
      ]
    },
    {
      "cell_type": "markdown",
      "id": "9bf1253e",
      "metadata": {
        "id": "9bf1253e"
      },
      "source": [
        "\n",
        "\n",
        "```\n",
        "# Esto tiene formato de código\n",
        "```\n",
        "\n",
        "### Random Forest Regressor"
      ]
    },
    {
      "cell_type": "code",
      "execution_count": null,
      "id": "2aedaac1",
      "metadata": {
        "id": "2aedaac1"
      },
      "outputs": [],
      "source": [
        "from sklearn.ensemble import RandomForestRegressor"
      ]
    },
    {
      "cell_type": "code",
      "execution_count": null,
      "id": "0adbba9f",
      "metadata": {
        "id": "0adbba9f"
      },
      "outputs": [],
      "source": [
        "model3 = RandomForestRegressor()\n",
        "model3.fit(X_train, y_train)\n",
        "y_pred3 = model3.predict(X_test)"
      ]
    },
    {
      "cell_type": "code",
      "execution_count": null,
      "id": "sunset-killer",
      "metadata": {
        "id": "sunset-killer",
        "colab": {
          "base_uri": "https://localhost:8080/"
        },
        "outputId": "535e7978-5579-4cd9-f580-06bdf22b6052"
      },
      "outputs": [
        {
          "output_type": "stream",
          "name": "stdout",
          "text": [
            "RMSE: 46796273.75\n",
            "MAE: 34930270.63\n",
            "R2: 0.40\n"
          ]
        }
      ],
      "source": [
        "# accuracy check\n",
        "rmse = MSE(y_test, y_pred3, squared=False)\n",
        "mae = MAE(y_test, y_pred3)\n",
        "r2 = r2_score(y_test, y_pred3)\n",
        "print(\"RMSE: %.2f\" % rmse)\n",
        "print(\"MAE: %.2f\" % mae)\n",
        "print(\"R2: %.2f\" % r2)"
      ]
    },
    {
      "cell_type": "markdown",
      "source": [
        "**Save the model**"
      ],
      "metadata": {
        "id": "qx5ZKifXyIsI"
      },
      "id": "qx5ZKifXyIsI"
    },
    {
      "cell_type": "code",
      "source": [
        "with open('model3.pkl', 'wb') as f:\n",
        "  pickle.dump(model3, f)"
      ],
      "metadata": {
        "id": "N_LGgW4byL1H"
      },
      "id": "N_LGgW4byL1H",
      "execution_count": null,
      "outputs": []
    },
    {
      "cell_type": "markdown",
      "id": "b10c4f5a",
      "metadata": {
        "id": "b10c4f5a"
      },
      "source": [
        "### Xgboost regressor\n",
        "https://www.datatechnotes.com/2019/06/regression-example-with-xgbregressor-in.html"
      ]
    },
    {
      "cell_type": "code",
      "execution_count": null,
      "id": "457560d3",
      "metadata": {
        "id": "457560d3"
      },
      "outputs": [],
      "source": [
        "from sklearn.model_selection import cross_val_score, KFold\n",
        "import xgboost as xgb\n",
        "from sklearn.metrics import classification_report"
      ]
    },
    {
      "cell_type": "code",
      "execution_count": null,
      "id": "c0212d2b",
      "metadata": {
        "id": "c0212d2b"
      },
      "outputs": [],
      "source": [
        "#Define model\n",
        "model4 = xgb.XGBRegressor(objective ='reg:squarederror',\n",
        "                          booster='gbtree',\n",
        "                          colsample_bytree = 1,\n",
        "                          importance_type='gain',\n",
        "                          learning_rate = 0.2,\n",
        "                          max_depth = 5,\n",
        "                          alpha = 5,\n",
        "                          n_estimators = 200,\n",
        "                          seed=123)"
      ]
    },
    {
      "cell_type": "code",
      "execution_count": null,
      "id": "0b4086fc",
      "metadata": {
        "id": "0b4086fc"
      },
      "outputs": [],
      "source": [
        "#Training\n",
        "model4.fit(X_train, y_train)#,\n",
        "#         eval_set=[(X_train, y_train), (X_test, y_test)], \\\n",
        "#         eval_metric='mlogloss', verbose=False)"
      ]
    },
    {
      "cell_type": "code",
      "execution_count": null,
      "id": "8ccfd193",
      "metadata": {
        "id": "8ccfd193"
      },
      "outputs": [],
      "source": [
        "#K-fold cross validation\n",
        "scores = cross_val_score(model4, X_train, y_train, cv=10)\n",
        "print(\"Mean cross-validation score: %.2f\" % scores.mean())"
      ]
    },
    {
      "cell_type": "code",
      "execution_count": null,
      "id": "98f07b41",
      "metadata": {
        "id": "98f07b41"
      },
      "outputs": [],
      "source": [
        "kfold = KFold(n_splits=10, shuffle=True)\n",
        "kf_cv_scores = cross_val_score(model4, X_train, y_train, cv=kfold )\n",
        "print(\"K-fold CV average score: %.2f\" % kf_cv_scores.mean())"
      ]
    },
    {
      "cell_type": "code",
      "execution_count": null,
      "id": "27a2145a",
      "metadata": {
        "id": "27a2145a"
      },
      "outputs": [],
      "source": [
        "# Pred\n",
        "y_pred4 = model4.predict(X_test)"
      ]
    },
    {
      "cell_type": "code",
      "execution_count": null,
      "id": "wanted-cleveland",
      "metadata": {
        "id": "wanted-cleveland"
      },
      "outputs": [],
      "source": [
        "# accuracy check\n",
        "rmse = MSE(y_test, y_pred4, squared=False)\n",
        "mae = MAE(y_test, y_pred4)\n",
        "r2 = r2_score(y_test, y_pred4)\n",
        "print(\"RMSE: %.2f\" % rmse)\n",
        "print(\"MAE: %.2f\" % mae)\n",
        "print(\"R2: %.2f\" % r2)"
      ]
    },
    {
      "cell_type": "code",
      "execution_count": null,
      "id": "4c72aa60",
      "metadata": {
        "id": "4c72aa60"
      },
      "outputs": [],
      "source": [
        "x_ax = range(len(y_test))\n",
        "plt.plot(x_ax, y_test, label=\"original\")\n",
        "plt.plot(x_ax, y_pred4, label=\"predicted\")\n",
        "plt.title(\"Car Prices: real vs. predicted\")\n",
        "plt.legend()\n",
        "plt.show()"
      ]
    }
  ],
  "metadata": {
    "kernelspec": {
      "display_name": "Python 3",
      "language": "python",
      "name": "python3"
    },
    "language_info": {
      "codemirror_mode": {
        "name": "ipython",
        "version": 3
      },
      "file_extension": ".py",
      "mimetype": "text/x-python",
      "name": "python",
      "nbconvert_exporter": "python",
      "pygments_lexer": "ipython3",
      "version": "3.7.7"
    },
    "colab": {
      "provenance": []
    }
  },
  "nbformat": 4,
  "nbformat_minor": 5
}